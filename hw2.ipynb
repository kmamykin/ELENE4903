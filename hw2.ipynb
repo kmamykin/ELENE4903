{
 "cells": [
  {
   "cell_type": "code",
   "execution_count": 7,
   "metadata": {},
   "outputs": [
    {
     "name": "stdout",
     "output_type": "stream",
     "text": [
      "The autoreload extension is already loaded. To reload it, use:\n  %reload_ext autoreload\n"
     ]
    }
   ],
   "source": [
    "%load_ext autoreload\n",
    "%autoreload 2\n",
    "%matplotlib inline\n",
    "from hw2 import hw2\n"
   ]
  },
  {
   "cell_type": "code",
   "execution_count": 166,
   "metadata": {},
   "outputs": [
    {
     "data": {
      "text/html": [
       "<div>\n",
       "<style>\n",
       "    .dataframe thead tr:only-child th {\n",
       "        text-align: right;\n",
       "    }\n",
       "\n",
       "    .dataframe thead th {\n",
       "        text-align: left;\n",
       "    }\n",
       "\n",
       "    .dataframe tbody tr th {\n",
       "        vertical-align: top;\n",
       "    }\n",
       "</style>\n",
       "<table border=\"1\" class=\"dataframe\">\n",
       "  <thead>\n",
       "    <tr style=\"text-align: right;\">\n",
       "      <th></th>\n",
       "      <th>Predicted 0</th>\n",
       "      <th>Predicted 1</th>\n",
       "    </tr>\n",
       "  </thead>\n",
       "  <tbody>\n",
       "    <tr>\n",
       "      <th>True 0</th>\n",
       "      <td>54</td>\n",
       "      <td>2</td>\n",
       "    </tr>\n",
       "    <tr>\n",
       "      <th>True 1</th>\n",
       "      <td>5</td>\n",
       "      <td>32</td>\n",
       "    </tr>\n",
       "  </tbody>\n",
       "</table>\n",
       "</div>"
      ],
      "text/plain": [
       "<div>\n",
       "<style>\n",
       "    .dataframe thead tr:only-child th {\n",
       "        text-align: right;\n",
       "    }\n",
       "\n",
       "    .dataframe thead th {\n",
       "        text-align: left;\n",
       "    }\n",
       "\n",
       "    .dataframe tbody tr th {\n",
       "        vertical-align: top;\n",
       "    }\n",
       "</style>\n",
       "<table border=\"1\" class=\"dataframe\">\n",
       "  <thead>\n",
       "    <tr style=\"text-align: right;\">\n",
       "      <th></th>\n",
       "      <th>Predicted 0</th>\n",
       "      <th>Predicted 1</th>\n",
       "    </tr>\n",
       "  </thead>\n",
       "  <tbody>\n",
       "    <tr>\n",
       "      <th>True 0</th>\n",
       "      <td>54</td>\n",
       "      <td>2</td>\n",
       "    </tr>\n",
       "    <tr>\n",
       "      <th>True 1</th>\n",
       "      <td>5</td>\n",
       "      <td>32</td>\n",
       "    </tr>\n",
       "  </tbody>\n",
       "</table>\n",
       "</div>"
      ]
     },
     "execution_count": 0,
     "metadata": {},
     "output_type": "execute_result"
    },
    {
     "name": "stdout",
     "output_type": "stream",
     "text": [
      "Accuracy: 92.47\n"
     ]
    }
   ],
   "source": [
    "hw2.problem_2_part_a()"
   ]
  },
  {
   "cell_type": "code",
   "execution_count": 167,
   "metadata": {},
   "outputs": [
    {
     "data": {
      "image/png": "[encoded data removed]",
      "text/plain": [
       "<matplotlib.figure.Figure at 0x1a1543abe0>"
      ]
     },
     "metadata": {},
     "output_type": "display_data"
    }
   ],
   "source": [
    "hw2.problem_2_part_b()"
   ]
  },
  {
   "cell_type": "code",
   "execution_count": null,
   "metadata": {},
   "outputs": [
    {
     "name": "stdout",
     "output_type": "stream",
     "text": [
      "Calculating neighbours\n"
     ]
    },
    {
     "data": {
      "image/png": "[encoded data removed]",
      "text/plain": [
       "<matplotlib.figure.Figure at 0x1a15401ef0>"
      ]
     },
     "metadata": {},
     "output_type": "display_data"
    }
   ],
   "source": [
    "hw2.plot_accuracy(*hw2.problem_2_part_c())"
   ]
  },
  {
   "cell_type": "code",
   "execution_count": 20,
   "metadata": {},
   "outputs": [],
   "source": [
    "import numpy as np\n",
    "X_train, y_train, X_test, y_test = hw2.load_data(data_dir='./hw2/hw2-data')"
   ]
  },
  {
   "cell_type": "code",
   "execution_count": 39,
   "metadata": {},
   "outputs": [
    {
     "name": "stdout",
     "output_type": "stream",
     "text": [
      "[37 38 39 40 41 42 43 44 45 46 47 48 49 50 51 52 53 54 55 56 57 58 59 60 61\n 62 63 64 65 66 67 68 69 70 71 72 73 74 75 76 77 78 79 80 81 82 83 84 85 86\n 87 88 89 90 91 92] [ 0  1  2  3  4  5  6  7  8  9 10 11 12 13 14 15 16 17 18 19 20 21 22 23 24\n 25 26 27 28 29 30 31 32 33 34 35 36]\n"
     ]
    }
   ],
   "source": [
    "# print(y_test)\n",
    "class_0_indices, _ = np.where(y_test==0)\n",
    "class_1_indices, _ = np.where(y_test==1)\n",
    "print(class_0_indices, class_1_indices)"
   ]
  },
  {
   "cell_type": "code",
   "execution_count": 50,
   "metadata": {},
   "outputs": [
    {
     "name": "stdout",
     "output_type": "stream",
     "text": [
      "(4508, 57) (4508, 1) (4508, 1)\n"
     ]
    },
    {
     "data": {
      "text/plain": [
       "array([[   1,    1,    1, ...,    5,  101, 1028],\n       [   1,    0,    1, ...,   10,  485, 2259],\n       [   0,    0,    0, ...,    4,   40,  191],\n       ..., \n       [   0,    0,    1, ...,    4,   62,  258],\n       [   0,    0,    0, ...,    4,   66,  101],\n       [   0,    1,    1, ...,    3,  318, 1003]])"
      ]
     },
     "execution_count": 50,
     "metadata": {},
     "output_type": "execute_result"
    }
   ],
   "source": [
    "print(X_train.shape, y_train.shape, (y_train == 1).shape)\n",
    "X_train[(y_train == 1).flatten(),:]"
   ]
  },
  {
   "cell_type": "code",
   "execution_count": 57,
   "metadata": {},
   "outputs": [
    {
     "data": {
      "text/plain": [
       "array([   628,    607,   1089,     38,   1107,    668,    745,    611,\n          547,    814,    557,   1118,    510,    227,    285,    968,\n          681,    677,   1574,    373,   1432,     94,    594,    669,\n           49,     26,      7,     30,     12,     17,      3,      2,\n           61,     10,     45,    111,     99,     32,     59,    199,\n            1,     20,     85,     46,    479,     68,     18,     16,\n          269,   1160,    128,   1480,   1092,    509,  16924, 185553,\n       837566])"
      ]
     },
     "execution_count": 57,
     "metadata": {},
     "output_type": "execute_result"
    }
   ],
   "source": [
    "np.sum(X_train[(y_train == 1).flatten(),:], axis=0)"
   ]
  },
  {
   "cell_type": "code",
   "execution_count": 98,
   "metadata": {},
   "outputs": [
    {
     "name": "stdout",
     "output_type": "stream",
     "text": [
      "[[ 0  1]\n [ 2  3]\n [ 4  5]\n [ 6  7]\n [ 8  9]\n [10 11]]\n"
     ]
    },
    {
     "data": {
      "text/plain": [
       "array([ 1,  5,  9, 13, 17, 21])"
      ]
     },
     "execution_count": 98,
     "metadata": {},
     "output_type": "execute_result"
    }
   ],
   "source": [
    "x = np.arange(12).reshape((6,-1))\n",
    "print(x)\n",
    "np.sum(x, axis=1)"
   ]
  },
  {
   "cell_type": "code",
   "execution_count": 122,
   "metadata": {},
   "outputs": [
    {
     "data": {
      "text/plain": [
       "[array([[1, 2, 3],\n        [1, 2, 3],\n        [1, 2, 3],\n        [1, 2, 3]]), array([['a', 'a', 'a'],\n        ['b', 'b', 'b'],\n        ['c', 'c', 'c'],\n        ['d', 'd', 'd']],\n       dtype='<U1')]"
      ]
     },
     "execution_count": 122,
     "metadata": {},
     "output_type": "execute_result"
    }
   ],
   "source": [
    "np.meshgrid(np.array([1,2,3]), np.array(['a', 'b', 'c', 'd']))"
   ]
  },
  {
   "cell_type": "code",
   "execution_count": 147,
   "metadata": {},
   "outputs": [
    {
     "name": "stdout",
     "output_type": "stream",
     "text": [
      "xx (2, 3) [[0 1 2]\n [0 1 2]]\nyy (2, 3) [[0 0 0]\n [1 1 1]]\n[[[1 1]\n  [2 2]\n  [3 5]]\n\n [[1 1]\n  [2 2]\n  [3 5]]]\n[[[ 1.1  1.1]\n  [ 1.1  1.1]\n  [ 1.1  1.1]]\n\n [[ 2.2  2.2]\n  [ 2.2  2.2]\n  [ 2.2  2.2]]]\n([1 1], [ 1.1  1.1]) -> 0.20000000000000018\n([2 2], [ 1.1  1.1]) -> 1.7999999999999998\n([3 5], [ 1.1  1.1]) -> 5.8\n([1 1], [ 2.2  2.2]) -> 2.4000000000000004\n([2 2], [ 2.2  2.2]) -> 0.40000000000000036\n([3 5], [ 2.2  2.2]) -> 3.5999999999999996\n[[ 0.2  1.8  5.8]\n [ 2.4  0.4  3.6]]\n"
     ]
    }
   ],
   "source": [
    "def log_and_return(x1, x2, r):\n",
    "    print(\"({}, {}) -> {}\".format(x1, x2, r))\n",
    "    return r\n",
    "\n",
    "def abc(X, Y):\n",
    "    distance = np.vectorize(lambda x1, x2: log_and_return(x1, x2, np.sum(np.abs(x1-x2))), signature='(i),(i)->()')\n",
    "    xx, yy = np.meshgrid(np.arange(X.shape[0]), np.arange(Y.shape[0]))\n",
    "    print('xx', xx.shape, xx)\n",
    "    print('yy', yy.shape, yy)\n",
    "    print(X[xx])\n",
    "    print(Y[yy])\n",
    "    return distance(X[xx], Y[yy])\n",
    "    \n",
    "a = np.array([\n",
    "    [1, 1],\n",
    "    [2, 2],\n",
    "    [3, 5]\n",
    "])\n",
    "b = np.array([\n",
    "    [1.1, 1.1],\n",
    "    [2.2, 2.2]\n",
    "])\n",
    "print(abc(a,b))"
   ]
  },
  {
   "cell_type": "code",
   "execution_count": 131,
   "metadata": {},
   "outputs": [
    {
     "name": "stdout",
     "output_type": "stream",
     "text": [
      "[[0 1 2]\n [3 4 5]\n [6 7 8]]\n[[[0]\n  [1]\n  [2]]\n\n [[3]\n  [4]\n  [5]]\n\n [[6]\n  [7]\n  [8]]]\n[[[0 0 0]\n  [1 1 1]\n  [2 2 2]]\n\n [[3 3 3]\n  [4 4 4]\n  [5 5 5]]\n\n [[6 6 6]\n  [7 7 7]\n  [8 8 8]]]\n[[0 3 6]\n [1 4 7]\n [2 5 8]]\n"
     ]
    },
    {
     "data": {
      "text/plain": [
       "array([[[ 0,  3,  6],\n        [ 0,  3,  6],\n        [ 0,  3,  6]],\n\n       [[-3,  0,  3],\n        [-3,  0,  3],\n        [-3,  0,  3]],\n\n       [[-6, -3,  0],\n        [-6, -3,  0],\n        [-6, -3,  0]]])"
      ]
     },
     "execution_count": 131,
     "metadata": {},
     "output_type": "execute_result"
    }
   ],
   "source": [
    "def num(points):\n",
    "    print(points)\n",
    "    expd=np.expand_dims(points,2) #need another dimension...\n",
    "    print(expd)\n",
    "    tiled=np.tile(expd, points.shape[0]) #...to tile up the vectors\n",
    "    print(tiled)\n",
    "    trans=np.transpose(points) #Also need to transpose the points matrix to fit well with broadcasting\n",
    "    print(trans)\n",
    "    diff=trans-tiled           #doing the difference, exploiting Numpy broadcasting capabilities\n",
    "    #num=np.sum(np.square(diff), axis=1) #an then obtain the squared norm of the difference\n",
    "    return diff\n",
    "\n",
    "num(np.arange(9).reshape((3,3)))"
   ]
  },
  {
   "cell_type": "code",
   "execution_count": 165,
   "metadata": {},
   "outputs": [
    {
     "data": {
      "text/plain": [
       "array([ 1,  2,  3,  4,  5,  6,  7,  8,  9, 10, 11, 12, 13, 14, 15, 16, 17,\n       18, 19, 20])"
      ]
     },
     "execution_count": 165,
     "metadata": {},
     "output_type": "execute_result"
    }
   ],
   "source": [
    "np.linspace(start=1, stop=20, num=20, dtype=np.int)"
   ]
  },
  {
   "cell_type": "code",
   "execution_count": null,
   "metadata": {},
   "outputs": [],
   "source": []
  }
 ],
 "metadata": {
  "kernelspec": {
   "display_name": "Python 3",
   "language": "python",
   "name": "python3"
  },
  "language_info": {
   "codemirror_mode": {
    "name": "ipython",
    "version": 3
   },
   "file_extension": ".py",
   "mimetype": "text/x-python",
   "name": "python",
   "nbconvert_exporter": "python",
   "pygments_lexer": "ipython3",
   "version": "3.6.3"
  }
 },
 "nbformat": 4,
 "nbformat_minor": 2
}
