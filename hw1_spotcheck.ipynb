{
 "cells": [
  {
   "cell_type": "code",
   "execution_count": 1,
   "metadata": {},
   "outputs": [
    {
     "name": "stdout",
     "output_type": "stream",
     "text": [
      "3.49087846645\n",
      "2.63364357797\n",
      "3.51227797624\n",
      "2.72879735351\n"
     ]
    }
   ],
   "source": [
    "# Spotcheck my model with sklearn implementation\n",
    "import numpy as np\n",
    "from sklearn.linear_model import Ridge\n",
    "from sklearn.metrics import mean_squared_error\n",
    "from hw1 import regression\n",
    "\n",
    "X_train, y_train, X_test, y_test = regression.load_data('hw1/hw1-data')\n",
    "\n",
    "ridge = Ridge(alpha=0, fit_intercept=False)\n",
    "ridge.fit(X_train, y_train)\n",
    "print(np.sqrt(mean_squared_error(ridge.predict(X_train), y_train)))\n",
    "print(np.sqrt(mean_squared_error(ridge.predict(X_test), y_test)))\n",
    "\n",
    "ridge = Ridge(alpha=10, fit_intercept=False)\n",
    "ridge.fit(X_train, y_train)\n",
    "print(np.sqrt(mean_squared_error(ridge.predict(X_train), y_train)))\n",
    "print(np.sqrt(mean_squared_error(ridge.predict(X_test), y_test)))"
   ]
  },
  {
   "cell_type": "code",
   "execution_count": null,
   "metadata": {},
   "outputs": [],
   "source": []
  }
 ],
 "metadata": {
  "kernelspec": {
   "display_name": "Python 3",
   "language": "python",
   "name": "python3"
  },
  "language_info": {
   "codemirror_mode": {
    "name": "ipython",
    "version": 3
   },
   "file_extension": ".py",
   "mimetype": "text/x-python",
   "name": "python",
   "nbconvert_exporter": "python",
   "pygments_lexer": "ipython3",
   "version": "3.6.3"
  }
 },
 "nbformat": 4,
 "nbformat_minor": 2
}
