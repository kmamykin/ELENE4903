{
 "cells": [
  {
   "cell_type": "code",
   "execution_count": 1,
   "metadata": {
    "collapsed": true
   },
   "outputs": [],
   "source": [
    "%load_ext autoreload\n",
    "%autoreload 2\n",
    "%matplotlib inline\n",
    "import numpy as np\n",
    "import matplotlib.pyplot as plt\n",
    "\n",
    "from hw3 import hw3\n"
   ]
  },
  {
   "cell_type": "code",
   "execution_count": 3,
   "metadata": {},
   "outputs": [
    {
     "data": {
      "text/plain": [
       "(0, 100)"
      ]
     },
     "execution_count": 3,
     "metadata": {},
     "output_type": "execute_result"
    },
    {
     "data": {
      "image/png": "[encoded data removed]",
      "text/plain": [
       "<matplotlib.figure.Figure at 0x10c47a8d0>"
      ]
     },
     "metadata": {},
     "output_type": "display_data"
    }
   ],
   "source": [
    "\n",
    "x = np.arange(100)\n",
    "inst_p = np.round(10+1*np.random.normal(size=8)).astype(np.int)\n",
    "t = np.cumsum(inst_p)\n",
    "gp = hw3.GaussianProcess(t, inst_p, sigma=0.001, kernel=hw3.gaussian(b=50))\n",
    "mm = gp.mean(x)\n",
    "std = gp.std(x)\n",
    "# print(mm.shape, std.shape)\n",
    "plt.figure(figsize=(16,3))\n",
    "plt.scatter(t, inst_p)\n",
    "plt.plot(x, mm)\n",
    "plt.fill_between(x, mm - 2*std, mm + 2*std, alpha=0.2, color='k')\n",
    "\n",
    "plt.ylim(0,20)\n",
    "plt.xlim(0,100)"
   ]
  },
  {
   "cell_type": "markdown",
   "metadata": {},
   "source": []
  },
  {
   "cell_type": "code",
   "execution_count": 16,
   "metadata": {},
   "outputs": [
    {
     "name": "stdout",
     "output_type": "stream",
     "text": [
      "Test MRSE: 3.13\n"
     ]
    }
   ],
   "source": [
    "hw3.problem_1_part_a()"
   ]
  },
  {
   "cell_type": "markdown",
   "metadata": {},
   "source": [
    "## Problem 1 (b):"
   ]
  },
  {
   "cell_type": "code",
   "execution_count": 18,
   "metadata": {},
   "outputs": [
    {
     "data": {
      "text/html": [
       "<div>\n",
       "<style>\n",
       "    .dataframe thead tr:only-child th {\n",
       "        text-align: right;\n",
       "    }\n",
       "\n",
       "    .dataframe thead th {\n",
       "        text-align: left;\n",
       "    }\n",
       "\n",
       "    .dataframe tbody tr th {\n",
       "        vertical-align: top;\n",
       "    }\n",
       "</style>\n",
       "<table border=\"1\" class=\"dataframe\">\n",
       "  <thead>\n",
       "    <tr style=\"text-align: right;\">\n",
       "      <th></th>\n",
       "      <th>s^2=0.1</th>\n",
       "      <th>s^2=0.2</th>\n",
       "      <th>s^2=0.3</th>\n",
       "      <th>s^2=0.4</th>\n",
       "      <th>s^2=0.5</th>\n",
       "      <th>s^2=0.6</th>\n",
       "      <th>s^2=0.7</th>\n",
       "      <th>s^2=0.8</th>\n",
       "      <th>s^2=0.9</th>\n",
       "      <th>s^2=1</th>\n",
       "    </tr>\n",
       "  </thead>\n",
       "  <tbody>\n",
       "    <tr>\n",
       "      <th>b=5</th>\n",
       "      <td>1.968375</td>\n",
       "      <td>1.935695</td>\n",
       "      <td>1.926298</td>\n",
       "      <td>1.925341</td>\n",
       "      <td>1.928144</td>\n",
       "      <td>1.932793</td>\n",
       "      <td>1.938400</td>\n",
       "      <td>1.944518</td>\n",
       "      <td>1.950910</td>\n",
       "      <td>1.957447</td>\n",
       "    </tr>\n",
       "    <tr>\n",
       "      <th>b=7</th>\n",
       "      <td>1.921775</td>\n",
       "      <td>1.906854</td>\n",
       "      <td>1.910319</td>\n",
       "      <td>1.918335</td>\n",
       "      <td>1.927385</td>\n",
       "      <td>1.936397</td>\n",
       "      <td>1.945039</td>\n",
       "      <td>1.953237</td>\n",
       "      <td>1.961007</td>\n",
       "      <td>1.968399</td>\n",
       "    </tr>\n",
       "    <tr>\n",
       "      <th>b=9</th>\n",
       "      <td>1.898987</td>\n",
       "      <td>1.904196</td>\n",
       "      <td>1.919520</td>\n",
       "      <td>1.934500</td>\n",
       "      <td>1.947749</td>\n",
       "      <td>1.959318</td>\n",
       "      <td>1.969499</td>\n",
       "      <td>1.978587</td>\n",
       "      <td>1.986826</td>\n",
       "      <td>1.994411</td>\n",
       "    </tr>\n",
       "    <tr>\n",
       "      <th>b=11</th>\n",
       "      <td>1.891693</td>\n",
       "      <td>1.916448</td>\n",
       "      <td>1.940431</td>\n",
       "      <td>1.959555</td>\n",
       "      <td>1.974831</td>\n",
       "      <td>1.987353</td>\n",
       "      <td>1.997925</td>\n",
       "      <td>2.007108</td>\n",
       "      <td>2.015292</td>\n",
       "      <td>2.022752</td>\n",
       "    </tr>\n",
       "    <tr>\n",
       "      <th>b=13</th>\n",
       "      <td>1.896930</td>\n",
       "      <td>1.936870</td>\n",
       "      <td>1.965923</td>\n",
       "      <td>1.986806</td>\n",
       "      <td>2.002568</td>\n",
       "      <td>2.015070</td>\n",
       "      <td>2.025434</td>\n",
       "      <td>2.034362</td>\n",
       "      <td>2.042306</td>\n",
       "      <td>2.049567</td>\n",
       "    </tr>\n",
       "    <tr>\n",
       "      <th>b=15</th>\n",
       "      <td>1.910596</td>\n",
       "      <td>1.960666</td>\n",
       "      <td>1.991906</td>\n",
       "      <td>2.012957</td>\n",
       "      <td>2.028334</td>\n",
       "      <td>2.040346</td>\n",
       "      <td>2.050263</td>\n",
       "      <td>2.058827</td>\n",
       "      <td>2.066495</td>\n",
       "      <td>2.073558</td>\n",
       "    </tr>\n",
       "  </tbody>\n",
       "</table>\n",
       "</div>"
      ],
      "text/plain": [
       "<div>\n",
       "<style>\n",
       "    .dataframe thead tr:only-child th {\n",
       "        text-align: right;\n",
       "    }\n",
       "\n",
       "    .dataframe thead th {\n",
       "        text-align: left;\n",
       "    }\n",
       "\n",
       "    .dataframe tbody tr th {\n",
       "        vertical-align: top;\n",
       "    }\n",
       "</style>\n",
       "<table border=\"1\" class=\"dataframe\">\n",
       "  <thead>\n",
       "    <tr style=\"text-align: right;\">\n",
       "      <th></th>\n",
       "      <th>s^2=0.1</th>\n",
       "      <th>s^2=0.2</th>\n",
       "      <th>s^2=0.3</th>\n",
       "      <th>s^2=0.4</th>\n",
       "      <th>s^2=0.5</th>\n",
       "      <th>s^2=0.6</th>\n",
       "      <th>s^2=0.7</th>\n",
       "      <th>s^2=0.8</th>\n",
       "      <th>s^2=0.9</th>\n",
       "      <th>s^2=1</th>\n",
       "    </tr>\n",
       "  </thead>\n",
       "  <tbody>\n",
       "    <tr>\n",
       "      <th>b=5</th>\n",
       "      <td>1.968375</td>\n",
       "      <td>1.935695</td>\n",
       "      <td>1.926298</td>\n",
       "      <td>1.925341</td>\n",
       "      <td>1.928144</td>\n",
       "      <td>1.932793</td>\n",
       "      <td>1.938400</td>\n",
       "      <td>1.944518</td>\n",
       "      <td>1.950910</td>\n",
       "      <td>1.957447</td>\n",
       "    </tr>\n",
       "    <tr>\n",
       "      <th>b=7</th>\n",
       "      <td>1.921775</td>\n",
       "      <td>1.906854</td>\n",
       "      <td>1.910319</td>\n",
       "      <td>1.918335</td>\n",
       "      <td>1.927385</td>\n",
       "      <td>1.936397</td>\n",
       "      <td>1.945039</td>\n",
       "      <td>1.953237</td>\n",
       "      <td>1.961007</td>\n",
       "      <td>1.968399</td>\n",
       "    </tr>\n",
       "    <tr>\n",
       "      <th>b=9</th>\n",
       "      <td>1.898987</td>\n",
       "      <td>1.904196</td>\n",
       "      <td>1.919520</td>\n",
       "      <td>1.934500</td>\n",
       "      <td>1.947749</td>\n",
       "      <td>1.959318</td>\n",
       "      <td>1.969499</td>\n",
       "      <td>1.978587</td>\n",
       "      <td>1.986826</td>\n",
       "      <td>1.994411</td>\n",
       "    </tr>\n",
       "    <tr>\n",
       "      <th>b=11</th>\n",
       "      <td>1.891693</td>\n",
       "      <td>1.916448</td>\n",
       "      <td>1.940431</td>\n",
       "      <td>1.959555</td>\n",
       "      <td>1.974831</td>\n",
       "      <td>1.987353</td>\n",
       "      <td>1.997925</td>\n",
       "      <td>2.007108</td>\n",
       "      <td>2.015292</td>\n",
       "      <td>2.022752</td>\n",
       "    </tr>\n",
       "    <tr>\n",
       "      <th>b=13</th>\n",
       "      <td>1.896930</td>\n",
       "      <td>1.936870</td>\n",
       "      <td>1.965923</td>\n",
       "      <td>1.986806</td>\n",
       "      <td>2.002568</td>\n",
       "      <td>2.015070</td>\n",
       "      <td>2.025434</td>\n",
       "      <td>2.034362</td>\n",
       "      <td>2.042306</td>\n",
       "      <td>2.049567</td>\n",
       "    </tr>\n",
       "    <tr>\n",
       "      <th>b=15</th>\n",
       "      <td>1.910596</td>\n",
       "      <td>1.960666</td>\n",
       "      <td>1.991906</td>\n",
       "      <td>2.012957</td>\n",
       "      <td>2.028334</td>\n",
       "      <td>2.040346</td>\n",
       "      <td>2.050263</td>\n",
       "      <td>2.058827</td>\n",
       "      <td>2.066495</td>\n",
       "      <td>2.073558</td>\n",
       "    </tr>\n",
       "  </tbody>\n",
       "</table>\n",
       "</div>"
      ]
     },
     "execution_count": 0,
     "metadata": {},
     "output_type": "execute_result"
    }
   ],
   "source": [
    "hw3.problem_1_part_b()"
   ]
  },
  {
   "cell_type": "markdown",
   "metadata": {},
   "source": [
    "## Problem 2 (c):"
   ]
  },
  {
   "cell_type": "markdown",
   "metadata": {},
   "source": [
    "Best test MRSE value for GP is **1.891** for hyper-parameters b=11 and sigma^2=0.1. From HW1, the best MRSE for Least Squares regression was **2.634**, and best MRSE for Ridge Regressions (polynomial order 2 feature expansion) was **2.193**. On the test set GP clearly outperforms both LS and RR models.\n",
    "\n",
    "The drawback in GP is the computational complexity. In both LS and RR linear models the computational complexity of matrix multiplication is $O(ND^2)$ and for matrix inverse $O(D^3)$. Since D << N, the overall complexity will be $(ND^2)$. For Gaussian Process the matrix inversion is computed on the covariance matrix NxN and its complexity $O(D^3)$ will dominate other computations. \n"
   ]
  },
  {
   "cell_type": "markdown",
   "metadata": {},
   "source": [
    "## Problem 2 (d):"
   ]
  },
  {
   "cell_type": "code",
   "execution_count": 32,
   "metadata": {},
   "outputs": [
    {
     "data": {
      "image/png": "[encoded data removed]",
      "text/plain": [
       "<matplotlib.figure.Figure at 0x11a6e6a58>"
      ]
     },
     "metadata": {},
     "output_type": "display_data"
    }
   ],
   "source": [
    "hw3.problem_1_part_d()"
   ]
  },
  {
   "cell_type": "markdown",
   "metadata": {},
   "source": [
    "## References:\n",
    "\n",
    "* https://en.wikipedia.org/wiki/Computational_complexity_of_mathematical_operations"
   ]
  },
  {
   "cell_type": "code",
   "execution_count": null,
   "metadata": {},
   "outputs": [],
   "source": []
  }
 ],
 "metadata": {
  "kernelspec": {
   "display_name": "Python 2",
   "language": "python",
   "name": "python2"
  },
  "language_info": {
   "codemirror_mode": {
    "name": "ipython",
    "version": 2
   },
   "file_extension": ".py",
   "mimetype": "text/x-python",
   "name": "python",
   "nbconvert_exporter": "python",
   "pygments_lexer": "ipython2",
   "version": "2.7.6"
  }
 },
 "nbformat": 4,
 "nbformat_minor": 0
}
