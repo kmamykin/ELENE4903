{
 "cells": [
  {
   "cell_type": "code",
   "execution_count": 1,
   "metadata": {
    "collapsed": true
   },
   "outputs": [],
   "source": [
    "%load_ext autoreload\n",
    "%autoreload 2\n",
    "%matplotlib inline\n",
    "import numpy as np\n",
    "import matplotlib.pyplot as plt\n",
    "from scipy import sparse\n",
    "\n",
    "from hw4.hw4 import *\n"
   ]
  },
  {
   "cell_type": "code",
   "execution_count": null,
   "metadata": {},
   "outputs": [
    {
     "name": "stdout",
     "output_type": "stream",
     "text": [
      "run: 0 completed. LL: -91199.06686112, RMSE: 1.13181380\n"
     ]
    },
    {
     "name": "stdout",
     "output_type": "stream",
     "text": [
      "run: 1 completed. LL: -91288.44032049, RMSE: 1.10350181\n"
     ]
    },
    {
     "name": "stdout",
     "output_type": "stream",
     "text": [
      "run: 2 completed. LL: -91183.00945415, RMSE: 1.10272125\n"
     ]
    },
    {
     "name": "stdout",
     "output_type": "stream",
     "text": [
      "run: 3 completed. LL: -91111.38748639, RMSE: 1.11241489\n"
     ]
    },
    {
     "name": "stdout",
     "output_type": "stream",
     "text": [
      "run: 4 completed. LL: -91069.94364685, RMSE: 1.10641460\n"
     ]
    },
    {
     "name": "stdout",
     "output_type": "stream",
     "text": [
      "run: 5 completed. LL: -91206.36909920, RMSE: 1.10684949\n"
     ]
    },
    {
     "name": "stdout",
     "output_type": "stream",
     "text": [
      "run: 6 completed. LL: -90877.33604180, RMSE: 1.11794824\n"
     ]
    },
    {
     "name": "stdout",
     "output_type": "stream",
     "text": [
      "run: 7 completed. LL: -91157.27510672, RMSE: 1.11234616\n"
     ]
    },
    {
     "name": "stdout",
     "output_type": "stream",
     "text": [
      "run: 8 completed. LL: -90904.06548285, RMSE: 1.11310097\n"
     ]
    },
    {
     "name": "stdout",
     "output_type": "stream",
     "text": [
      "run: 9 completed. LL: -91101.69596049, RMSE: 1.11403376\nBest run: 6\n"
     ]
    }
   ],
   "source": [
    "%time results = factorize_ratings()"
   ]
  },
  {
   "cell_type": "code",
   "execution_count": 3,
   "metadata": {},
   "outputs": [
    {
     "data": {
      "image/png": "[encoded data removed]",
      "text/plain": [
       "<matplotlib.figure.Figure at 0x10bbc6668>"
      ]
     },
     "metadata": {},
     "output_type": "display_data"
    }
   ],
   "source": [
    "problem2_a1(*results)"
   ]
  },
  {
   "cell_type": "code",
   "execution_count": 4,
   "metadata": {},
   "outputs": [
    {
     "data": {
      "text/html": [
       "<div>\n",
       "<style>\n",
       "    .dataframe thead tr:only-child th {\n",
       "        text-align: right;\n",
       "    }\n",
       "\n",
       "    .dataframe thead th {\n",
       "        text-align: left;\n",
       "    }\n",
       "\n",
       "    .dataframe tbody tr th {\n",
       "        vertical-align: top;\n",
       "    }\n",
       "</style>\n",
       "<table border=\"1\" class=\"dataframe\">\n",
       "  <thead>\n",
       "    <tr style=\"text-align: right;\">\n",
       "      <th></th>\n",
       "      <th>train objective</th>\n",
       "      <th>test RMSE</th>\n",
       "    </tr>\n",
       "  </thead>\n",
       "  <tbody>\n",
       "    <tr>\n",
       "      <th>6</th>\n",
       "      <td>-90877.336042</td>\n",
       "      <td>1.117948</td>\n",
       "    </tr>\n",
       "    <tr>\n",
       "      <th>8</th>\n",
       "      <td>-90904.065483</td>\n",
       "      <td>1.113101</td>\n",
       "    </tr>\n",
       "    <tr>\n",
       "      <th>4</th>\n",
       "      <td>-91069.943647</td>\n",
       "      <td>1.106415</td>\n",
       "    </tr>\n",
       "    <tr>\n",
       "      <th>9</th>\n",
       "      <td>-91101.695960</td>\n",
       "      <td>1.114034</td>\n",
       "    </tr>\n",
       "    <tr>\n",
       "      <th>3</th>\n",
       "      <td>-91111.387486</td>\n",
       "      <td>1.112415</td>\n",
       "    </tr>\n",
       "    <tr>\n",
       "      <th>7</th>\n",
       "      <td>-91157.275107</td>\n",
       "      <td>1.112346</td>\n",
       "    </tr>\n",
       "    <tr>\n",
       "      <th>2</th>\n",
       "      <td>-91183.009454</td>\n",
       "      <td>1.102721</td>\n",
       "    </tr>\n",
       "    <tr>\n",
       "      <th>0</th>\n",
       "      <td>-91199.066861</td>\n",
       "      <td>1.131814</td>\n",
       "    </tr>\n",
       "    <tr>\n",
       "      <th>5</th>\n",
       "      <td>-91206.369099</td>\n",
       "      <td>1.106849</td>\n",
       "    </tr>\n",
       "    <tr>\n",
       "      <th>1</th>\n",
       "      <td>-91288.440320</td>\n",
       "      <td>1.103502</td>\n",
       "    </tr>\n",
       "  </tbody>\n",
       "</table>\n",
       "</div>"
      ],
      "text/plain": [
       "<div>\n",
       "<style>\n",
       "    .dataframe thead tr:only-child th {\n",
       "        text-align: right;\n",
       "    }\n",
       "\n",
       "    .dataframe thead th {\n",
       "        text-align: left;\n",
       "    }\n",
       "\n",
       "    .dataframe tbody tr th {\n",
       "        vertical-align: top;\n",
       "    }\n",
       "</style>\n",
       "<table border=\"1\" class=\"dataframe\">\n",
       "  <thead>\n",
       "    <tr style=\"text-align: right;\">\n",
       "      <th></th>\n",
       "      <th>train objective</th>\n",
       "      <th>test RMSE</th>\n",
       "    </tr>\n",
       "  </thead>\n",
       "  <tbody>\n",
       "    <tr>\n",
       "      <th>6</th>\n",
       "      <td>-90877.336042</td>\n",
       "      <td>1.117948</td>\n",
       "    </tr>\n",
       "    <tr>\n",
       "      <th>8</th>\n",
       "      <td>-90904.065483</td>\n",
       "      <td>1.113101</td>\n",
       "    </tr>\n",
       "    <tr>\n",
       "      <th>4</th>\n",
       "      <td>-91069.943647</td>\n",
       "      <td>1.106415</td>\n",
       "    </tr>\n",
       "    <tr>\n",
       "      <th>9</th>\n",
       "      <td>-91101.695960</td>\n",
       "      <td>1.114034</td>\n",
       "    </tr>\n",
       "    <tr>\n",
       "      <th>3</th>\n",
       "      <td>-91111.387486</td>\n",
       "      <td>1.112415</td>\n",
       "    </tr>\n",
       "    <tr>\n",
       "      <th>7</th>\n",
       "      <td>-91157.275107</td>\n",
       "      <td>1.112346</td>\n",
       "    </tr>\n",
       "    <tr>\n",
       "      <th>2</th>\n",
       "      <td>-91183.009454</td>\n",
       "      <td>1.102721</td>\n",
       "    </tr>\n",
       "    <tr>\n",
       "      <th>0</th>\n",
       "      <td>-91199.066861</td>\n",
       "      <td>1.131814</td>\n",
       "    </tr>\n",
       "    <tr>\n",
       "      <th>5</th>\n",
       "      <td>-91206.369099</td>\n",
       "      <td>1.106849</td>\n",
       "    </tr>\n",
       "    <tr>\n",
       "      <th>1</th>\n",
       "      <td>-91288.440320</td>\n",
       "      <td>1.103502</td>\n",
       "    </tr>\n",
       "  </tbody>\n",
       "</table>\n",
       "</div>"
      ]
     },
     "execution_count": 0,
     "metadata": {},
     "output_type": "execute_result"
    }
   ],
   "source": [
    "problem2_a2(*results)"
   ]
  },
  {
   "cell_type": "code",
   "execution_count": 5,
   "metadata": {},
   "outputs": [
    {
     "data": {
      "text/html": [
       "<div>\n",
       "<style>\n",
       "    .dataframe thead tr:only-child th {\n",
       "        text-align: right;\n",
       "    }\n",
       "\n",
       "    .dataframe thead th {\n",
       "        text-align: left;\n",
       "    }\n",
       "\n",
       "    .dataframe tbody tr th {\n",
       "        vertical-align: top;\n",
       "    }\n",
       "</style>\n",
       "<table border=\"1\" class=\"dataframe\">\n",
       "  <thead>\n",
       "    <tr style=\"text-align: right;\">\n",
       "      <th></th>\n",
       "      <th>Star Wars (1977)</th>\n",
       "      <th>My Fair Lady (1964)</th>\n",
       "      <th>GoodFellas (1990)</th>\n",
       "    </tr>\n",
       "  </thead>\n",
       "  <tbody>\n",
       "    <tr>\n",
       "      <th>0</th>\n",
       "      <td>Empire Strikes Back, The (1980)</td>\n",
       "      <td>Sound of Music, The (1965)</td>\n",
       "      <td>Good, The Bad and The Ugly, The (1966)</td>\n",
       "    </tr>\n",
       "    <tr>\n",
       "      <th>1</th>\n",
       "      <td>Return of the Jedi (1983)</td>\n",
       "      <td>Mary Poppins (1964)</td>\n",
       "      <td>Casino (1995)</td>\n",
       "    </tr>\n",
       "    <tr>\n",
       "      <th>2</th>\n",
       "      <td>Raiders of the Lost Ark (1981)</td>\n",
       "      <td>Victor/Victoria (1982)</td>\n",
       "      <td>Full Metal Jacket (1987)</td>\n",
       "    </tr>\n",
       "    <tr>\n",
       "      <th>3</th>\n",
       "      <td>Blues Brothers, The (1980)</td>\n",
       "      <td>Parent Trap, The (1961)</td>\n",
       "      <td>Once Upon a Time in the West (1969)</td>\n",
       "    </tr>\n",
       "    <tr>\n",
       "      <th>4</th>\n",
       "      <td>My Man Godfrey (1936)</td>\n",
       "      <td>Sabrina (1954)</td>\n",
       "      <td>Godfather: Part II, The (1974)</td>\n",
       "    </tr>\n",
       "    <tr>\n",
       "      <th>5</th>\n",
       "      <td>Princess Bride, The (1987)</td>\n",
       "      <td>Gone with the Wind (1939)</td>\n",
       "      <td>Cool Hand Luke (1967)</td>\n",
       "    </tr>\n",
       "    <tr>\n",
       "      <th>6</th>\n",
       "      <td>Indiana Jones and the Last Crusade (1989)</td>\n",
       "      <td>American in Paris, An (1951)</td>\n",
       "      <td>Apocalypse Now (1979)</td>\n",
       "    </tr>\n",
       "    <tr>\n",
       "      <th>7</th>\n",
       "      <td>Young Frankenstein (1974)</td>\n",
       "      <td>Alice in Wonderland (1951)</td>\n",
       "      <td>2001: A Space Odyssey (1968)</td>\n",
       "    </tr>\n",
       "    <tr>\n",
       "      <th>8</th>\n",
       "      <td>Terminator, The (1984)</td>\n",
       "      <td>Snow White and the Seven Dwarfs (1937)</td>\n",
       "      <td>Bonnie and Clyde (1967)</td>\n",
       "    </tr>\n",
       "    <tr>\n",
       "      <th>9</th>\n",
       "      <td>Manon of the Spring (Manon des sources) (1986)</td>\n",
       "      <td>Beauty and the Beast (1991)</td>\n",
       "      <td>Pulp Fiction (1994)</td>\n",
       "    </tr>\n",
       "  </tbody>\n",
       "</table>\n",
       "</div>"
      ],
      "text/plain": [
       "<div>\n",
       "<style>\n",
       "    .dataframe thead tr:only-child th {\n",
       "        text-align: right;\n",
       "    }\n",
       "\n",
       "    .dataframe thead th {\n",
       "        text-align: left;\n",
       "    }\n",
       "\n",
       "    .dataframe tbody tr th {\n",
       "        vertical-align: top;\n",
       "    }\n",
       "</style>\n",
       "<table border=\"1\" class=\"dataframe\">\n",
       "  <thead>\n",
       "    <tr style=\"text-align: right;\">\n",
       "      <th></th>\n",
       "      <th>Star Wars (1977)</th>\n",
       "      <th>My Fair Lady (1964)</th>\n",
       "      <th>GoodFellas (1990)</th>\n",
       "    </tr>\n",
       "  </thead>\n",
       "  <tbody>\n",
       "    <tr>\n",
       "      <th>0</th>\n",
       "      <td>Empire Strikes Back, The (1980)</td>\n",
       "      <td>Sound of Music, The (1965)</td>\n",
       "      <td>Good, The Bad and The Ugly, The (1966)</td>\n",
       "    </tr>\n",
       "    <tr>\n",
       "      <th>1</th>\n",
       "      <td>Return of the Jedi (1983)</td>\n",
       "      <td>Mary Poppins (1964)</td>\n",
       "      <td>Casino (1995)</td>\n",
       "    </tr>\n",
       "    <tr>\n",
       "      <th>2</th>\n",
       "      <td>Raiders of the Lost Ark (1981)</td>\n",
       "      <td>Victor/Victoria (1982)</td>\n",
       "      <td>Full Metal Jacket (1987)</td>\n",
       "    </tr>\n",
       "    <tr>\n",
       "      <th>3</th>\n",
       "      <td>Blues Brothers, The (1980)</td>\n",
       "      <td>Parent Trap, The (1961)</td>\n",
       "      <td>Once Upon a Time in the West (1969)</td>\n",
       "    </tr>\n",
       "    <tr>\n",
       "      <th>4</th>\n",
       "      <td>My Man Godfrey (1936)</td>\n",
       "      <td>Sabrina (1954)</td>\n",
       "      <td>Godfather: Part II, The (1974)</td>\n",
       "    </tr>\n",
       "    <tr>\n",
       "      <th>5</th>\n",
       "      <td>Princess Bride, The (1987)</td>\n",
       "      <td>Gone with the Wind (1939)</td>\n",
       "      <td>Cool Hand Luke (1967)</td>\n",
       "    </tr>\n",
       "    <tr>\n",
       "      <th>6</th>\n",
       "      <td>Indiana Jones and the Last Crusade (1989)</td>\n",
       "      <td>American in Paris, An (1951)</td>\n",
       "      <td>Apocalypse Now (1979)</td>\n",
       "    </tr>\n",
       "    <tr>\n",
       "      <th>7</th>\n",
       "      <td>Young Frankenstein (1974)</td>\n",
       "      <td>Alice in Wonderland (1951)</td>\n",
       "      <td>2001: A Space Odyssey (1968)</td>\n",
       "    </tr>\n",
       "    <tr>\n",
       "      <th>8</th>\n",
       "      <td>Terminator, The (1984)</td>\n",
       "      <td>Snow White and the Seven Dwarfs (1937)</td>\n",
       "      <td>Bonnie and Clyde (1967)</td>\n",
       "    </tr>\n",
       "    <tr>\n",
       "      <th>9</th>\n",
       "      <td>Manon of the Spring (Manon des sources) (1986)</td>\n",
       "      <td>Beauty and the Beast (1991)</td>\n",
       "      <td>Pulp Fiction (1994)</td>\n",
       "    </tr>\n",
       "  </tbody>\n",
       "</table>\n",
       "</div>"
      ]
     },
     "execution_count": 0,
     "metadata": {},
     "output_type": "execute_result"
    }
   ],
   "source": [
    "problem2_b(*results)"
   ]
  },
  {
   "cell_type": "code",
   "execution_count": null,
   "metadata": {},
   "outputs": [],
   "source": []
  }
 ],
 "metadata": {
  "kernelspec": {
   "display_name": "Python 2",
   "language": "python",
   "name": "python2"
  },
  "language_info": {
   "codemirror_mode": {
    "name": "ipython",
    "version": 2
   },
   "file_extension": ".py",
   "mimetype": "text/x-python",
   "name": "python",
   "nbconvert_exporter": "python",
   "pygments_lexer": "ipython2",
   "version": "2.7.6"
  }
 },
 "nbformat": 4,
 "nbformat_minor": 0
}
