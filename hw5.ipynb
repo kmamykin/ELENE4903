{
 "cells": [
  {
   "cell_type": "markdown",
   "metadata": {
    "collapsed": true
   },
   "source": [
    "# ELEN E4903 Homework 4\n",
    "## Kliment Mamykin UNI 2770"
   ]
  },
  {
   "cell_type": "code",
   "execution_count": 1,
   "metadata": {},
   "outputs": [],
   "source": [
    "%load_ext autoreload\n",
    "%autoreload 2\n",
    "%matplotlib inline\n",
    "    \n",
    "from hw5.hw5 import *"
   ]
  },
  {
   "cell_type": "code",
   "execution_count": 3,
   "metadata": {},
   "outputs": [
    {
     "name": "stdout",
     "output_type": "stream",
     "text": [
      "CPU times: user 4.91 s, sys: 226 ms, total: 5.14 s\nWall time: 2.11 s\n"
     ]
    }
   ],
   "source": [
    "%time experiment = markov_chain_experiment()"
   ]
  },
  {
   "cell_type": "code",
   "execution_count": 4,
   "metadata": {},
   "outputs": [
    {
     "data": {
      "text/html": [
       "<div>\n",
       "<style>\n",
       "    .dataframe thead tr:only-child th {\n",
       "        text-align: right;\n",
       "    }\n",
       "\n",
       "    .dataframe thead th {\n",
       "        text-align: left;\n",
       "    }\n",
       "\n",
       "    .dataframe tbody tr th {\n",
       "        vertical-align: top;\n",
       "    }\n",
       "</style>\n",
       "<table border=\"1\" class=\"dataframe\">\n",
       "  <thead>\n",
       "    <tr>\n",
       "      <th></th>\n",
       "      <th colspan=\"2\" halign=\"left\">t=10</th>\n",
       "      <th colspan=\"2\" halign=\"left\">t=100</th>\n",
       "      <th colspan=\"2\" halign=\"left\">t=1000</th>\n",
       "      <th colspan=\"2\" halign=\"left\">t=10000</th>\n",
       "    </tr>\n",
       "    <tr>\n",
       "      <th></th>\n",
       "      <th>teams</th>\n",
       "      <th>p</th>\n",
       "      <th>teams</th>\n",
       "      <th>p</th>\n",
       "      <th>teams</th>\n",
       "      <th>p</th>\n",
       "      <th>teams</th>\n",
       "      <th>p</th>\n",
       "    </tr>\n",
       "  </thead>\n",
       "  <tbody>\n",
       "    <tr>\n",
       "      <th>0</th>\n",
       "      <td>MountUnion</td>\n",
       "      <td>0.018356</td>\n",
       "      <td>MountUnion</td>\n",
       "      <td>0.065705</td>\n",
       "      <td>Alabama</td>\n",
       "      <td>0.042282</td>\n",
       "      <td>Alabama</td>\n",
       "      <td>0.051114</td>\n",
       "    </tr>\n",
       "    <tr>\n",
       "      <th>1</th>\n",
       "      <td>MaryHardin-Baylor</td>\n",
       "      <td>0.012997</td>\n",
       "      <td>Alabama</td>\n",
       "      <td>0.022963</td>\n",
       "      <td>Georgia</td>\n",
       "      <td>0.034923</td>\n",
       "      <td>Georgia</td>\n",
       "      <td>0.042176</td>\n",
       "    </tr>\n",
       "    <tr>\n",
       "      <th>2</th>\n",
       "      <td>StFrancisIN</td>\n",
       "      <td>0.011045</td>\n",
       "      <td>Georgia</td>\n",
       "      <td>0.019237</td>\n",
       "      <td>MountUnion</td>\n",
       "      <td>0.034024</td>\n",
       "      <td>OhioState</td>\n",
       "      <td>0.033563</td>\n",
       "    </tr>\n",
       "    <tr>\n",
       "      <th>3</th>\n",
       "      <td>UW-Oshkosh</td>\n",
       "      <td>0.009959</td>\n",
       "      <td>UW-Oshkosh</td>\n",
       "      <td>0.017905</td>\n",
       "      <td>OhioState</td>\n",
       "      <td>0.027731</td>\n",
       "      <td>Clemson</td>\n",
       "      <td>0.032494</td>\n",
       "    </tr>\n",
       "    <tr>\n",
       "      <th>4</th>\n",
       "      <td>TAMU-Commerce</td>\n",
       "      <td>0.009295</td>\n",
       "      <td>OhioState</td>\n",
       "      <td>0.014859</td>\n",
       "      <td>Clemson</td>\n",
       "      <td>0.026894</td>\n",
       "      <td>Oklahoma</td>\n",
       "      <td>0.031654</td>\n",
       "    </tr>\n",
       "    <tr>\n",
       "      <th>5</th>\n",
       "      <td>BrockportSt</td>\n",
       "      <td>0.009169</td>\n",
       "      <td>Clemson</td>\n",
       "      <td>0.014719</td>\n",
       "      <td>Oklahoma</td>\n",
       "      <td>0.026177</td>\n",
       "      <td>Wisconsin</td>\n",
       "      <td>0.031090</td>\n",
       "    </tr>\n",
       "    <tr>\n",
       "      <th>6</th>\n",
       "      <td>NorthDakotaSt</td>\n",
       "      <td>0.009008</td>\n",
       "      <td>Oklahoma</td>\n",
       "      <td>0.014205</td>\n",
       "      <td>Wisconsin</td>\n",
       "      <td>0.025686</td>\n",
       "      <td>CentralFlorida</td>\n",
       "      <td>0.028810</td>\n",
       "    </tr>\n",
       "    <tr>\n",
       "      <th>7</th>\n",
       "      <td>Alabama</td>\n",
       "      <td>0.008994</td>\n",
       "      <td>Wisconsin</td>\n",
       "      <td>0.013756</td>\n",
       "      <td>CentralFlorida</td>\n",
       "      <td>0.023846</td>\n",
       "      <td>Auburn</td>\n",
       "      <td>0.026506</td>\n",
       "    </tr>\n",
       "    <tr>\n",
       "      <th>8</th>\n",
       "      <td>Morningside</td>\n",
       "      <td>0.008794</td>\n",
       "      <td>CentralFlorida</td>\n",
       "      <td>0.013051</td>\n",
       "      <td>Auburn</td>\n",
       "      <td>0.021933</td>\n",
       "      <td>PennState</td>\n",
       "      <td>0.024029</td>\n",
       "    </tr>\n",
       "    <tr>\n",
       "      <th>9</th>\n",
       "      <td>Georgia</td>\n",
       "      <td>0.008380</td>\n",
       "      <td>MaryHardin-Baylor</td>\n",
       "      <td>0.012609</td>\n",
       "      <td>PennState</td>\n",
       "      <td>0.019862</td>\n",
       "      <td>NotreDame</td>\n",
       "      <td>0.018050</td>\n",
       "    </tr>\n",
       "    <tr>\n",
       "      <th>10</th>\n",
       "      <td>JamesMadison</td>\n",
       "      <td>0.008076</td>\n",
       "      <td>TAMU-Commerce</td>\n",
       "      <td>0.012499</td>\n",
       "      <td>NotreDame</td>\n",
       "      <td>0.014938</td>\n",
       "      <td>TCU</td>\n",
       "      <td>0.017212</td>\n",
       "    </tr>\n",
       "    <tr>\n",
       "      <th>11</th>\n",
       "      <td>DelawareValley</td>\n",
       "      <td>0.007939</td>\n",
       "      <td>Auburn</td>\n",
       "      <td>0.011959</td>\n",
       "      <td>TCU</td>\n",
       "      <td>0.014247</td>\n",
       "      <td>MiamiFL</td>\n",
       "      <td>0.014377</td>\n",
       "    </tr>\n",
       "    <tr>\n",
       "      <th>12</th>\n",
       "      <td>Wartburg</td>\n",
       "      <td>0.007579</td>\n",
       "      <td>StFrancisIN</td>\n",
       "      <td>0.011094</td>\n",
       "      <td>MiamiFL</td>\n",
       "      <td>0.011903</td>\n",
       "      <td>MichiganSt</td>\n",
       "      <td>0.014240</td>\n",
       "    </tr>\n",
       "    <tr>\n",
       "      <th>13</th>\n",
       "      <td>IndianaPA</td>\n",
       "      <td>0.007222</td>\n",
       "      <td>PennState</td>\n",
       "      <td>0.010702</td>\n",
       "      <td>MichiganSt</td>\n",
       "      <td>0.011772</td>\n",
       "      <td>OklahomaSt</td>\n",
       "      <td>0.013636</td>\n",
       "    </tr>\n",
       "    <tr>\n",
       "      <th>14</th>\n",
       "      <td>Clemson</td>\n",
       "      <td>0.007081</td>\n",
       "      <td>BrockportSt</td>\n",
       "      <td>0.009478</td>\n",
       "      <td>OklahomaSt</td>\n",
       "      <td>0.011289</td>\n",
       "      <td>Iowa</td>\n",
       "      <td>0.012913</td>\n",
       "    </tr>\n",
       "    <tr>\n",
       "      <th>15</th>\n",
       "      <td>MinnSt-Mankato</td>\n",
       "      <td>0.006955</td>\n",
       "      <td>NotreDame</td>\n",
       "      <td>0.008179</td>\n",
       "      <td>Iowa</td>\n",
       "      <td>0.010674</td>\n",
       "      <td>Northwestern</td>\n",
       "      <td>0.012505</td>\n",
       "    </tr>\n",
       "    <tr>\n",
       "      <th>16</th>\n",
       "      <td>CentralFlorida</td>\n",
       "      <td>0.006753</td>\n",
       "      <td>DelawareValley</td>\n",
       "      <td>0.007976</td>\n",
       "      <td>Northwestern</td>\n",
       "      <td>0.010334</td>\n",
       "      <td>IowaSt</td>\n",
       "      <td>0.012370</td>\n",
       "    </tr>\n",
       "    <tr>\n",
       "      <th>17</th>\n",
       "      <td>OhioState</td>\n",
       "      <td>0.006671</td>\n",
       "      <td>NorthDakotaSt</td>\n",
       "      <td>0.007953</td>\n",
       "      <td>IowaSt</td>\n",
       "      <td>0.010248</td>\n",
       "      <td>LSU</td>\n",
       "      <td>0.011565</td>\n",
       "    </tr>\n",
       "    <tr>\n",
       "      <th>18</th>\n",
       "      <td>Wisconsin</td>\n",
       "      <td>0.006636</td>\n",
       "      <td>FrostburgSt</td>\n",
       "      <td>0.007861</td>\n",
       "      <td>LSU</td>\n",
       "      <td>0.009573</td>\n",
       "      <td>SouthernCal</td>\n",
       "      <td>0.011439</td>\n",
       "    </tr>\n",
       "    <tr>\n",
       "      <th>19</th>\n",
       "      <td>Reinhardt</td>\n",
       "      <td>0.006580</td>\n",
       "      <td>TCU</td>\n",
       "      <td>0.007818</td>\n",
       "      <td>NorthDakotaSt</td>\n",
       "      <td>0.009492</td>\n",
       "      <td>Washington</td>\n",
       "      <td>0.011191</td>\n",
       "    </tr>\n",
       "    <tr>\n",
       "      <th>20</th>\n",
       "      <td>StThomas</td>\n",
       "      <td>0.006016</td>\n",
       "      <td>MinnSt-Mankato</td>\n",
       "      <td>0.007645</td>\n",
       "      <td>SouthernCal</td>\n",
       "      <td>0.009478</td>\n",
       "      <td>NorthDakotaSt</td>\n",
       "      <td>0.010939</td>\n",
       "    </tr>\n",
       "    <tr>\n",
       "      <th>21</th>\n",
       "      <td>Oklahoma</td>\n",
       "      <td>0.005948</td>\n",
       "      <td>CaseWesternReserve</td>\n",
       "      <td>0.007156</td>\n",
       "      <td>Washington</td>\n",
       "      <td>0.009285</td>\n",
       "      <td>Stanford</td>\n",
       "      <td>0.010549</td>\n",
       "    </tr>\n",
       "    <tr>\n",
       "      <th>22</th>\n",
       "      <td>FrostburgSt</td>\n",
       "      <td>0.005506</td>\n",
       "      <td>JohnCarroll</td>\n",
       "      <td>0.006855</td>\n",
       "      <td>UW-Oshkosh</td>\n",
       "      <td>0.009237</td>\n",
       "      <td>MississippiSt</td>\n",
       "      <td>0.010317</td>\n",
       "    </tr>\n",
       "    <tr>\n",
       "      <th>23</th>\n",
       "      <td>Ashland</td>\n",
       "      <td>0.005368</td>\n",
       "      <td>MiamiFL</td>\n",
       "      <td>0.006546</td>\n",
       "      <td>Stanford</td>\n",
       "      <td>0.008742</td>\n",
       "      <td>VirginiaTech</td>\n",
       "      <td>0.010060</td>\n",
       "    </tr>\n",
       "    <tr>\n",
       "      <th>24</th>\n",
       "      <td>Assumption</td>\n",
       "      <td>0.005324</td>\n",
       "      <td>Harding</td>\n",
       "      <td>0.006452</td>\n",
       "      <td>MississippiSt</td>\n",
       "      <td>0.008541</td>\n",
       "      <td>NorthCarolinaSt</td>\n",
       "      <td>0.009595</td>\n",
       "    </tr>\n",
       "  </tbody>\n",
       "</table>\n",
       "</div>"
      ],
      "text/plain": [
       "<div>\n",
       "<style>\n",
       "    .dataframe thead tr:only-child th {\n",
       "        text-align: right;\n",
       "    }\n",
       "\n",
       "    .dataframe thead th {\n",
       "        text-align: left;\n",
       "    }\n",
       "\n",
       "    .dataframe tbody tr th {\n",
       "        vertical-align: top;\n",
       "    }\n",
       "</style>\n",
       "<table border=\"1\" class=\"dataframe\">\n",
       "  <thead>\n",
       "    <tr>\n",
       "      <th></th>\n",
       "      <th colspan=\"2\" halign=\"left\">t=10</th>\n",
       "      <th colspan=\"2\" halign=\"left\">t=100</th>\n",
       "      <th colspan=\"2\" halign=\"left\">t=1000</th>\n",
       "      <th colspan=\"2\" halign=\"left\">t=10000</th>\n",
       "    </tr>\n",
       "    <tr>\n",
       "      <th></th>\n",
       "      <th>teams</th>\n",
       "      <th>p</th>\n",
       "      <th>teams</th>\n",
       "      <th>p</th>\n",
       "      <th>teams</th>\n",
       "      <th>p</th>\n",
       "      <th>teams</th>\n",
       "      <th>p</th>\n",
       "    </tr>\n",
       "  </thead>\n",
       "  <tbody>\n",
       "    <tr>\n",
       "      <th>0</th>\n",
       "      <td>MountUnion</td>\n",
       "      <td>0.018356</td>\n",
       "      <td>MountUnion</td>\n",
       "      <td>0.065705</td>\n",
       "      <td>Alabama</td>\n",
       "      <td>0.042282</td>\n",
       "      <td>Alabama</td>\n",
       "      <td>0.051114</td>\n",
       "    </tr>\n",
       "    <tr>\n",
       "      <th>1</th>\n",
       "      <td>MaryHardin-Baylor</td>\n",
       "      <td>0.012997</td>\n",
       "      <td>Alabama</td>\n",
       "      <td>0.022963</td>\n",
       "      <td>Georgia</td>\n",
       "      <td>0.034923</td>\n",
       "      <td>Georgia</td>\n",
       "      <td>0.042176</td>\n",
       "    </tr>\n",
       "    <tr>\n",
       "      <th>2</th>\n",
       "      <td>StFrancisIN</td>\n",
       "      <td>0.011045</td>\n",
       "      <td>Georgia</td>\n",
       "      <td>0.019237</td>\n",
       "      <td>MountUnion</td>\n",
       "      <td>0.034024</td>\n",
       "      <td>OhioState</td>\n",
       "      <td>0.033563</td>\n",
       "    </tr>\n",
       "    <tr>\n",
       "      <th>3</th>\n",
       "      <td>UW-Oshkosh</td>\n",
       "      <td>0.009959</td>\n",
       "      <td>UW-Oshkosh</td>\n",
       "      <td>0.017905</td>\n",
       "      <td>OhioState</td>\n",
       "      <td>0.027731</td>\n",
       "      <td>Clemson</td>\n",
       "      <td>0.032494</td>\n",
       "    </tr>\n",
       "    <tr>\n",
       "      <th>4</th>\n",
       "      <td>TAMU-Commerce</td>\n",
       "      <td>0.009295</td>\n",
       "      <td>OhioState</td>\n",
       "      <td>0.014859</td>\n",
       "      <td>Clemson</td>\n",
       "      <td>0.026894</td>\n",
       "      <td>Oklahoma</td>\n",
       "      <td>0.031654</td>\n",
       "    </tr>\n",
       "    <tr>\n",
       "      <th>5</th>\n",
       "      <td>BrockportSt</td>\n",
       "      <td>0.009169</td>\n",
       "      <td>Clemson</td>\n",
       "      <td>0.014719</td>\n",
       "      <td>Oklahoma</td>\n",
       "      <td>0.026177</td>\n",
       "      <td>Wisconsin</td>\n",
       "      <td>0.031090</td>\n",
       "    </tr>\n",
       "    <tr>\n",
       "      <th>6</th>\n",
       "      <td>NorthDakotaSt</td>\n",
       "      <td>0.009008</td>\n",
       "      <td>Oklahoma</td>\n",
       "      <td>0.014205</td>\n",
       "      <td>Wisconsin</td>\n",
       "      <td>0.025686</td>\n",
       "      <td>CentralFlorida</td>\n",
       "      <td>0.028810</td>\n",
       "    </tr>\n",
       "    <tr>\n",
       "      <th>7</th>\n",
       "      <td>Alabama</td>\n",
       "      <td>0.008994</td>\n",
       "      <td>Wisconsin</td>\n",
       "      <td>0.013756</td>\n",
       "      <td>CentralFlorida</td>\n",
       "      <td>0.023846</td>\n",
       "      <td>Auburn</td>\n",
       "      <td>0.026506</td>\n",
       "    </tr>\n",
       "    <tr>\n",
       "      <th>8</th>\n",
       "      <td>Morningside</td>\n",
       "      <td>0.008794</td>\n",
       "      <td>CentralFlorida</td>\n",
       "      <td>0.013051</td>\n",
       "      <td>Auburn</td>\n",
       "      <td>0.021933</td>\n",
       "      <td>PennState</td>\n",
       "      <td>0.024029</td>\n",
       "    </tr>\n",
       "    <tr>\n",
       "      <th>9</th>\n",
       "      <td>Georgia</td>\n",
       "      <td>0.008380</td>\n",
       "      <td>MaryHardin-Baylor</td>\n",
       "      <td>0.012609</td>\n",
       "      <td>PennState</td>\n",
       "      <td>0.019862</td>\n",
       "      <td>NotreDame</td>\n",
       "      <td>0.018050</td>\n",
       "    </tr>\n",
       "    <tr>\n",
       "      <th>10</th>\n",
       "      <td>JamesMadison</td>\n",
       "      <td>0.008076</td>\n",
       "      <td>TAMU-Commerce</td>\n",
       "      <td>0.012499</td>\n",
       "      <td>NotreDame</td>\n",
       "      <td>0.014938</td>\n",
       "      <td>TCU</td>\n",
       "      <td>0.017212</td>\n",
       "    </tr>\n",
       "    <tr>\n",
       "      <th>11</th>\n",
       "      <td>DelawareValley</td>\n",
       "      <td>0.007939</td>\n",
       "      <td>Auburn</td>\n",
       "      <td>0.011959</td>\n",
       "      <td>TCU</td>\n",
       "      <td>0.014247</td>\n",
       "      <td>MiamiFL</td>\n",
       "      <td>0.014377</td>\n",
       "    </tr>\n",
       "    <tr>\n",
       "      <th>12</th>\n",
       "      <td>Wartburg</td>\n",
       "      <td>0.007579</td>\n",
       "      <td>StFrancisIN</td>\n",
       "      <td>0.011094</td>\n",
       "      <td>MiamiFL</td>\n",
       "      <td>0.011903</td>\n",
       "      <td>MichiganSt</td>\n",
       "      <td>0.014240</td>\n",
       "    </tr>\n",
       "    <tr>\n",
       "      <th>13</th>\n",
       "      <td>IndianaPA</td>\n",
       "      <td>0.007222</td>\n",
       "      <td>PennState</td>\n",
       "      <td>0.010702</td>\n",
       "      <td>MichiganSt</td>\n",
       "      <td>0.011772</td>\n",
       "      <td>OklahomaSt</td>\n",
       "      <td>0.013636</td>\n",
       "    </tr>\n",
       "    <tr>\n",
       "      <th>14</th>\n",
       "      <td>Clemson</td>\n",
       "      <td>0.007081</td>\n",
       "      <td>BrockportSt</td>\n",
       "      <td>0.009478</td>\n",
       "      <td>OklahomaSt</td>\n",
       "      <td>0.011289</td>\n",
       "      <td>Iowa</td>\n",
       "      <td>0.012913</td>\n",
       "    </tr>\n",
       "    <tr>\n",
       "      <th>15</th>\n",
       "      <td>MinnSt-Mankato</td>\n",
       "      <td>0.006955</td>\n",
       "      <td>NotreDame</td>\n",
       "      <td>0.008179</td>\n",
       "      <td>Iowa</td>\n",
       "      <td>0.010674</td>\n",
       "      <td>Northwestern</td>\n",
       "      <td>0.012505</td>\n",
       "    </tr>\n",
       "    <tr>\n",
       "      <th>16</th>\n",
       "      <td>CentralFlorida</td>\n",
       "      <td>0.006753</td>\n",
       "      <td>DelawareValley</td>\n",
       "      <td>0.007976</td>\n",
       "      <td>Northwestern</td>\n",
       "      <td>0.010334</td>\n",
       "      <td>IowaSt</td>\n",
       "      <td>0.012370</td>\n",
       "    </tr>\n",
       "    <tr>\n",
       "      <th>17</th>\n",
       "      <td>OhioState</td>\n",
       "      <td>0.006671</td>\n",
       "      <td>NorthDakotaSt</td>\n",
       "      <td>0.007953</td>\n",
       "      <td>IowaSt</td>\n",
       "      <td>0.010248</td>\n",
       "      <td>LSU</td>\n",
       "      <td>0.011565</td>\n",
       "    </tr>\n",
       "    <tr>\n",
       "      <th>18</th>\n",
       "      <td>Wisconsin</td>\n",
       "      <td>0.006636</td>\n",
       "      <td>FrostburgSt</td>\n",
       "      <td>0.007861</td>\n",
       "      <td>LSU</td>\n",
       "      <td>0.009573</td>\n",
       "      <td>SouthernCal</td>\n",
       "      <td>0.011439</td>\n",
       "    </tr>\n",
       "    <tr>\n",
       "      <th>19</th>\n",
       "      <td>Reinhardt</td>\n",
       "      <td>0.006580</td>\n",
       "      <td>TCU</td>\n",
       "      <td>0.007818</td>\n",
       "      <td>NorthDakotaSt</td>\n",
       "      <td>0.009492</td>\n",
       "      <td>Washington</td>\n",
       "      <td>0.011191</td>\n",
       "    </tr>\n",
       "    <tr>\n",
       "      <th>20</th>\n",
       "      <td>StThomas</td>\n",
       "      <td>0.006016</td>\n",
       "      <td>MinnSt-Mankato</td>\n",
       "      <td>0.007645</td>\n",
       "      <td>SouthernCal</td>\n",
       "      <td>0.009478</td>\n",
       "      <td>NorthDakotaSt</td>\n",
       "      <td>0.010939</td>\n",
       "    </tr>\n",
       "    <tr>\n",
       "      <th>21</th>\n",
       "      <td>Oklahoma</td>\n",
       "      <td>0.005948</td>\n",
       "      <td>CaseWesternReserve</td>\n",
       "      <td>0.007156</td>\n",
       "      <td>Washington</td>\n",
       "      <td>0.009285</td>\n",
       "      <td>Stanford</td>\n",
       "      <td>0.010549</td>\n",
       "    </tr>\n",
       "    <tr>\n",
       "      <th>22</th>\n",
       "      <td>FrostburgSt</td>\n",
       "      <td>0.005506</td>\n",
       "      <td>JohnCarroll</td>\n",
       "      <td>0.006855</td>\n",
       "      <td>UW-Oshkosh</td>\n",
       "      <td>0.009237</td>\n",
       "      <td>MississippiSt</td>\n",
       "      <td>0.010317</td>\n",
       "    </tr>\n",
       "    <tr>\n",
       "      <th>23</th>\n",
       "      <td>Ashland</td>\n",
       "      <td>0.005368</td>\n",
       "      <td>MiamiFL</td>\n",
       "      <td>0.006546</td>\n",
       "      <td>Stanford</td>\n",
       "      <td>0.008742</td>\n",
       "      <td>VirginiaTech</td>\n",
       "      <td>0.010060</td>\n",
       "    </tr>\n",
       "    <tr>\n",
       "      <th>24</th>\n",
       "      <td>Assumption</td>\n",
       "      <td>0.005324</td>\n",
       "      <td>Harding</td>\n",
       "      <td>0.006452</td>\n",
       "      <td>MississippiSt</td>\n",
       "      <td>0.008541</td>\n",
       "      <td>NorthCarolinaSt</td>\n",
       "      <td>0.009595</td>\n",
       "    </tr>\n",
       "  </tbody>\n",
       "</table>\n",
       "</div>"
      ]
     },
     "execution_count": 0,
     "metadata": {},
     "output_type": "execute_result"
    }
   ],
   "source": [
    "problem_1_a(experiment)"
   ]
  },
  {
   "cell_type": "code",
   "execution_count": null,
   "metadata": {},
   "outputs": [
    {
     "data": {
      "image/png": "[encoded data removed]",
      "text/plain": [
       "<matplotlib.figure.Figure at 0x126368e10>"
      ]
     },
     "metadata": {},
     "output_type": "display_data"
    }
   ],
   "source": [
    "problem_1_b(experiment)"
   ]
  },
  {
   "cell_type": "code",
   "execution_count": 11,
   "metadata": {},
   "outputs": [
    {
     "name": "stdout",
     "output_type": "stream",
     "text": [
      "3028831.38415\n"
     ]
    },
    {
     "name": "stdout",
     "output_type": "stream",
     "text": [
      "3028268.59803\n"
     ]
    },
    {
     "name": "stdout",
     "output_type": "stream",
     "text": [
      "3027576.85171\n"
     ]
    },
    {
     "name": "stdout",
     "output_type": "stream",
     "text": [
      "3026620.9835\n"
     ]
    },
    {
     "name": "stdout",
     "output_type": "stream",
     "text": [
      "3025130.02342\n"
     ]
    },
    {
     "name": "stdout",
     "output_type": "stream",
     "text": [
      "3022529.2036\n"
     ]
    },
    {
     "name": "stdout",
     "output_type": "stream",
     "text": [
      "3017576.14825\n"
     ]
    },
    {
     "name": "stdout",
     "output_type": "stream",
     "text": [
      "3007625.02615\n"
     ]
    },
    {
     "name": "stdout",
     "output_type": "stream",
     "text": [
      "2987608.18678\n"
     ]
    },
    {
     "name": "stdout",
     "output_type": "stream",
     "text": [
      "2950940.38391\n"
     ]
    },
    {
     "name": "stdout",
     "output_type": "stream",
     "text": [
      "2897028.29183\n"
     ]
    },
    {
     "name": "stdout",
     "output_type": "stream",
     "text": [
      "2837150.54173\n"
     ]
    },
    {
     "name": "stdout",
     "output_type": "stream",
     "text": [
      "2782691.14986\n"
     ]
    },
    {
     "name": "stdout",
     "output_type": "stream",
     "text": [
      "2736251.9361\n"
     ]
    },
    {
     "name": "stdout",
     "output_type": "stream",
     "text": [
      "2696642.7565\n"
     ]
    },
    {
     "name": "stdout",
     "output_type": "stream",
     "text": [
      "2663103.90384\n"
     ]
    },
    {
     "name": "stdout",
     "output_type": "stream",
     "text": [
      "2635206.99205\n"
     ]
    },
    {
     "name": "stdout",
     "output_type": "stream",
     "text": [
      "2612289.61457\n"
     ]
    },
    {
     "name": "stdout",
     "output_type": "stream",
     "text": [
      "2593596.47168\n"
     ]
    },
    {
     "name": "stdout",
     "output_type": "stream",
     "text": [
      "2578438.43227\n"
     ]
    },
    {
     "name": "stdout",
     "output_type": "stream",
     "text": [
      "2566207.64106\n"
     ]
    },
    {
     "name": "stdout",
     "output_type": "stream",
     "text": [
      "2556348.48086\n"
     ]
    },
    {
     "name": "stdout",
     "output_type": "stream",
     "text": [
      "2548359.2766\n"
     ]
    },
    {
     "name": "stdout",
     "output_type": "stream",
     "text": [
      "2541818.12731\n"
     ]
    },
    {
     "name": "stdout",
     "output_type": "stream",
     "text": [
      "2536394.6433\n"
     ]
    },
    {
     "name": "stdout",
     "output_type": "stream",
     "text": [
      "2531840.07361\n"
     ]
    },
    {
     "name": "stdout",
     "output_type": "stream",
     "text": [
      "2527968.61701\n"
     ]
    },
    {
     "name": "stdout",
     "output_type": "stream",
     "text": [
      "2524641.86464\n"
     ]
    },
    {
     "name": "stdout",
     "output_type": "stream",
     "text": [
      "2521760.90303\n"
     ]
    },
    {
     "name": "stdout",
     "output_type": "stream",
     "text": [
      "2519252.35268\n"
     ]
    },
    {
     "name": "stdout",
     "output_type": "stream",
     "text": [
      "2517052.087\n"
     ]
    },
    {
     "name": "stdout",
     "output_type": "stream",
     "text": [
      "2515106.17352\n"
     ]
    },
    {
     "name": "stdout",
     "output_type": "stream",
     "text": [
      "2513374.82959\n"
     ]
    },
    {
     "name": "stdout",
     "output_type": "stream",
     "text": [
      "2511828.51334\n"
     ]
    },
    {
     "name": "stdout",
     "output_type": "stream",
     "text": [
      "2510443.16441\n"
     ]
    },
    {
     "name": "stdout",
     "output_type": "stream",
     "text": [
      "2509200.17307\n"
     ]
    },
    {
     "name": "stdout",
     "output_type": "stream",
     "text": [
      "2508082.17489\n"
     ]
    },
    {
     "name": "stdout",
     "output_type": "stream",
     "text": [
      "2507072.88616\n"
     ]
    },
    {
     "name": "stdout",
     "output_type": "stream",
     "text": [
      "2506157.4182\n"
     ]
    },
    {
     "name": "stdout",
     "output_type": "stream",
     "text": [
      "2505322.97114\n"
     ]
    },
    {
     "name": "stdout",
     "output_type": "stream",
     "text": [
      "2504558.70476\n"
     ]
    },
    {
     "name": "stdout",
     "output_type": "stream",
     "text": [
      "2503854.61882\n"
     ]
    },
    {
     "name": "stdout",
     "output_type": "stream",
     "text": [
      "2503203.24162\n"
     ]
    },
    {
     "name": "stdout",
     "output_type": "stream",
     "text": [
      "2502599.40726\n"
     ]
    },
    {
     "name": "stdout",
     "output_type": "stream",
     "text": [
      "2502037.8489\n"
     ]
    },
    {
     "name": "stdout",
     "output_type": "stream",
     "text": [
      "2501515.03046\n"
     ]
    },
    {
     "name": "stdout",
     "output_type": "stream",
     "text": [
      "2501028.64963\n"
     ]
    },
    {
     "name": "stdout",
     "output_type": "stream",
     "text": [
      "2500575.53502\n"
     ]
    },
    {
     "name": "stdout",
     "output_type": "stream",
     "text": [
      "2500153.06395\n"
     ]
    },
    {
     "name": "stdout",
     "output_type": "stream",
     "text": [
      "2499759.02823\n"
     ]
    },
    {
     "name": "stdout",
     "output_type": "stream",
     "text": [
      "2499390.6719\n"
     ]
    },
    {
     "name": "stdout",
     "output_type": "stream",
     "text": [
      "2499045.36341\n"
     ]
    },
    {
     "name": "stdout",
     "output_type": "stream",
     "text": [
      "2498721.67256\n"
     ]
    },
    {
     "name": "stdout",
     "output_type": "stream",
     "text": [
      "2498419.28401\n"
     ]
    },
    {
     "name": "stdout",
     "output_type": "stream",
     "text": [
      "2498136.4596\n"
     ]
    },
    {
     "name": "stdout",
     "output_type": "stream",
     "text": [
      "2497871.20476\n"
     ]
    },
    {
     "name": "stdout",
     "output_type": "stream",
     "text": [
      "2497621.98517\n"
     ]
    },
    {
     "name": "stdout",
     "output_type": "stream",
     "text": [
      "2497386.82744\n"
     ]
    },
    {
     "name": "stdout",
     "output_type": "stream",
     "text": [
      "2497162.62228\n"
     ]
    },
    {
     "name": "stdout",
     "output_type": "stream",
     "text": [
      "2496948.71738\n"
     ]
    },
    {
     "name": "stdout",
     "output_type": "stream",
     "text": [
      "2496747.40965\n"
     ]
    },
    {
     "name": "stdout",
     "output_type": "stream",
     "text": [
      "2496557.73289\n"
     ]
    },
    {
     "name": "stdout",
     "output_type": "stream",
     "text": [
      "2496377.57741\n"
     ]
    },
    {
     "name": "stdout",
     "output_type": "stream",
     "text": [
      "2496205.41215\n"
     ]
    },
    {
     "name": "stdout",
     "output_type": "stream",
     "text": [
      "2496040.26058\n"
     ]
    },
    {
     "name": "stdout",
     "output_type": "stream",
     "text": [
      "2495881.81467\n"
     ]
    },
    {
     "name": "stdout",
     "output_type": "stream",
     "text": [
      "2495730.34589\n"
     ]
    },
    {
     "name": "stdout",
     "output_type": "stream",
     "text": [
      "2495585.80797\n"
     ]
    },
    {
     "name": "stdout",
     "output_type": "stream",
     "text": [
      "2495447.62308\n"
     ]
    },
    {
     "name": "stdout",
     "output_type": "stream",
     "text": [
      "2495315.09025\n"
     ]
    },
    {
     "name": "stdout",
     "output_type": "stream",
     "text": [
      "2495187.61558\n"
     ]
    },
    {
     "name": "stdout",
     "output_type": "stream",
     "text": [
      "2495064.72035\n"
     ]
    },
    {
     "name": "stdout",
     "output_type": "stream",
     "text": [
      "2494946.23223\n"
     ]
    },
    {
     "name": "stdout",
     "output_type": "stream",
     "text": [
      "2494832.7593\n"
     ]
    },
    {
     "name": "stdout",
     "output_type": "stream",
     "text": [
      "2494724.15321\n"
     ]
    },
    {
     "name": "stdout",
     "output_type": "stream",
     "text": [
      "2494619.80011\n"
     ]
    },
    {
     "name": "stdout",
     "output_type": "stream",
     "text": [
      "2494519.08757\n"
     ]
    },
    {
     "name": "stdout",
     "output_type": "stream",
     "text": [
      "2494421.49889\n"
     ]
    },
    {
     "name": "stdout",
     "output_type": "stream",
     "text": [
      "2494326.90766\n"
     ]
    },
    {
     "name": "stdout",
     "output_type": "stream",
     "text": [
      "2494235.546\n"
     ]
    },
    {
     "name": "stdout",
     "output_type": "stream",
     "text": [
      "2494147.55629\n"
     ]
    },
    {
     "name": "stdout",
     "output_type": "stream",
     "text": [
      "2494062.81183\n"
     ]
    },
    {
     "name": "stdout",
     "output_type": "stream",
     "text": [
      "2493980.98472\n"
     ]
    },
    {
     "name": "stdout",
     "output_type": "stream",
     "text": [
      "2493901.69203\n"
     ]
    },
    {
     "name": "stdout",
     "output_type": "stream",
     "text": [
      "2493824.57876\n"
     ]
    },
    {
     "name": "stdout",
     "output_type": "stream",
     "text": [
      "2493749.33124\n"
     ]
    },
    {
     "name": "stdout",
     "output_type": "stream",
     "text": [
      "2493675.71074\n"
     ]
    },
    {
     "name": "stdout",
     "output_type": "stream",
     "text": [
      "2493603.5926\n"
     ]
    },
    {
     "name": "stdout",
     "output_type": "stream",
     "text": [
      "2493533.05673\n"
     ]
    },
    {
     "name": "stdout",
     "output_type": "stream",
     "text": [
      "2493464.52144\n"
     ]
    },
    {
     "name": "stdout",
     "output_type": "stream",
     "text": [
      "2493398.21195\n"
     ]
    },
    {
     "name": "stdout",
     "output_type": "stream",
     "text": [
      "2493334.07093\n"
     ]
    },
    {
     "name": "stdout",
     "output_type": "stream",
     "text": [
      "2493271.96583\n"
     ]
    },
    {
     "name": "stdout",
     "output_type": "stream",
     "text": [
      "2493211.65126\n"
     ]
    },
    {
     "name": "stdout",
     "output_type": "stream",
     "text": [
      "2493152.78103\n"
     ]
    },
    {
     "name": "stdout",
     "output_type": "stream",
     "text": [
      "2493094.96967\n"
     ]
    },
    {
     "name": "stdout",
     "output_type": "stream",
     "text": [
      "2493038.05165\n"
     ]
    },
    {
     "name": "stdout",
     "output_type": "stream",
     "text": [
      "2492982.1156\n"
     ]
    },
    {
     "name": "stdout",
     "output_type": "stream",
     "text": [
      "2492927.18394\n"
     ]
    },
    {
     "name": "stdout",
     "output_type": "stream",
     "text": [
      "2492873.45147\n"
     ]
    }
   ],
   "source": [
    "nmf = nmf_experiment()"
   ]
  },
  {
   "cell_type": "code",
   "execution_count": 13,
   "metadata": {},
   "outputs": [
    {
     "data": {
      "image/png": "[encoded data removed]",
      "text/plain": [
       "<matplotlib.figure.Figure at 0x10b24b828>"
      ]
     },
     "metadata": {},
     "output_type": "display_data"
    }
   ],
   "source": [
    "problem_2_a(*nmf)"
   ]
  },
  {
   "cell_type": "code",
   "execution_count": 27,
   "metadata": {},
   "outputs": [
    {
     "name": "stdout",
     "output_type": "stream",
     "text": [
      "[['percent' 'life' 'yesterday' 'father' 'official' 'official' 'company'\n  'official' 'company' 'american' 'child' 'man' 'official' 'sauce' 'play'\n  'company' 'play' 'play' 'tell' 'play' 'man' 'turn' 'official' 'state'\n  'point']\n ['state' 'thing' 'official' 'game' 'issue' 'state' 'percent' 'government'\n  'percent' 'president' 'city' 'company' 'states' 'pepper' 'game' 'share'\n  'game' 'minute' 'point' 'thing' 'life' 'small' 'plan' 'official' 'place']\n ['government' 'tell' 'tell' 'graduate' 'states' 'company' 'market' 'issue'\n  'yesterday' 'company' 'place' 'case' 'report' 'small' 'second'\n  'president' 'win' 'team' 'official' 'music' 'yesterday' 'serve' 'country'\n  'plan' 'official']\n ['country' 'man' 'president' 'point' 'public' 'city' 'price' 'plan' 'turn'\n  'executive' 'artist' 'group' 'government' 'turn' 'season' 'graduate'\n  'victory' 'win' 'ask' 'old' 'name' 'man' 'put' 'government' 'play']\n ['group' 'feel' 'name' 'team' 'president' 'move' 'stock' 'political'\n  'market' 'report' 'hold' 'public' 'issue' 'life' 'team' 'market' 'player'\n  'game' 'group' 'place' 'tell' 'place' 'state' 'support' 'tell']\n ['place' 'room' 'american' 'president' 'government' 'plan' 'executive'\n  'yesterday' 'name' 'case' 'large' 'family' 'country' 'man' 'player'\n  'program' 'second' 'start' 'play' 'live' 'woman' 'large' 'start' 'ago'\n  'move']\n ['man' 'start' 'country' 'director' 'political' 'charge' 'investor'\n  'report' 'move' 'provide' 'point' 'life' 'group' 'dish' 'score'\n  'business' 'team' 'man' 'states' 'great' 'group' 'play' 'hold' 'city'\n  'put']\n ['plan' 'family' 'program' 'play' 'case' 'ask' 'increase' 'percent'\n  'night' 'large' 'little' 'member' 'member' 'serve' 'yesterday' 'sale'\n  'night' 'player' 'public' 'young' 'charge' 'home' 'thing' 'large'\n  'states']\n ['official' 'home' 'ask' 'yesterday' 'member' 'case' 'government' 'leader'\n  'start' 'move' 'close' 'school' 'program' 'cook' 'third' 'sell' 'start'\n  'pass' 'percent' 'man' 'police' 'start' 'tell' 'add' 'percent']\n ['ago' 'child' 'son' 'daughter' 'place' 'states' 'analyst' 'law' 'family'\n  'system' 'company' 'editor' 'charge' 'fresh' 'start' 'firm' 'lose'\n  'thing' 'big' 'performance' 'ask' 'book' 'move' 'point' 'lot']]\n"
     ]
    }
   ],
   "source": [
    "problem_2_b(*nmf)"
   ]
  },
  {
   "cell_type": "code",
   "execution_count": 9,
   "metadata": {},
   "outputs": [],
   "source": [
    "X, vocab = load_word_frequency_matrix()"
   ]
  },
  {
   "cell_type": "code",
   "execution_count": 20,
   "metadata": {},
   "outputs": [
    {
     "data": {
      "text/plain": [
       "array([2, 2, 2, ..., 1, 1, 1])"
      ]
     },
     "execution_count": 20,
     "metadata": {},
     "output_type": "execute_result"
    }
   ],
   "source": [
    "X.data"
   ]
  },
  {
   "cell_type": "code",
   "execution_count": 11,
   "metadata": {},
   "outputs": [
    {
     "data": {
      "text/plain": [
       "0.0"
      ]
     },
     "execution_count": 11,
     "metadata": {},
     "output_type": "execute_result"
    }
   ],
   "source": [
    "np.log(1)"
   ]
  },
  {
   "cell_type": "code",
   "execution_count": 12,
   "metadata": {},
   "outputs": [
    {
     "data": {
      "text/plain": [
       "1.0"
      ]
     },
     "execution_count": 12,
     "metadata": {},
     "output_type": "execute_result"
    }
   ],
   "source": [
    "np.exp(0)"
   ]
  },
  {
   "cell_type": "code",
   "execution_count": 36,
   "metadata": {},
   "outputs": [
    {
     "name": "stdout",
     "output_type": "stream",
     "text": [
      "[[ 0  1  2  3  4]\n [ 5  6  7  8  9]\n [10 11 12 13 14]\n [15 16 17 18 19]\n [20 21 22 23 24]]\n[ 2  6 10]\n"
     ]
    }
   ],
   "source": [
    "ii = np.arange(3)\n",
    "jj = np.arange(3)\n",
    "x = np.arange(25).reshape((5,5))\n",
    "print(x)\n",
    "print(x[ii,np.flip(jj, axis=0)])"
   ]
  },
  {
   "cell_type": "code",
   "execution_count": 15,
   "metadata": {},
   "outputs": [
    {
     "data": {
      "text/plain": [
       "'1.13.3'"
      ]
     },
     "execution_count": 15,
     "metadata": {},
     "output_type": "execute_result"
    }
   ],
   "source": [
    "np.version.version"
   ]
  },
  {
   "cell_type": "code",
   "execution_count": null,
   "metadata": {},
   "outputs": [],
   "source": []
  }
 ],
 "metadata": {
  "kernelspec": {
   "display_name": "Python 2",
   "language": "python",
   "name": "python2"
  },
  "language_info": {
   "codemirror_mode": {
    "name": "ipython",
    "version": 2
   },
   "file_extension": ".py",
   "mimetype": "text/x-python",
   "name": "python",
   "nbconvert_exporter": "python",
   "pygments_lexer": "ipython2",
   "version": "2.7.6"
  }
 },
 "nbformat": 4,
 "nbformat_minor": 0
}
