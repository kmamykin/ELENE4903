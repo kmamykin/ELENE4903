{
 "cells": [
  {
   "cell_type": "markdown",
   "metadata": {
    "hideCode": true,
    "hidePrompt": true
   },
   "source": [
    "# ELEN E4903 Homework 5\n",
    "## Kliment Mamykin UNI 2770"
   ]
  },
  {
   "cell_type": "markdown",
   "metadata": {
    "hideCode": true,
    "hidePrompt": true
   },
   "source": [
    "## Problem 1 (Markov Chains):\n",
    "\n",
    "### Problem 1(a)\n",
    "\n",
    "Please see next page..."
   ]
  },
  {
   "cell_type": "code",
   "execution_count": 1,
   "metadata": {
    "hideCode": true,
    "hideOutput": true,
    "hidePrompt": true
   },
   "outputs": [],
   "source": [
    "%load_ext autoreload\n",
    "%autoreload 2\n",
    "%matplotlib inline\n",
    "    \n",
    "from hw5.hw5 import *"
   ]
  },
  {
   "cell_type": "code",
   "execution_count": 2,
   "metadata": {
    "hideCode": true,
    "hideOutput": true,
    "hidePrompt": true
   },
   "outputs": [
    {
     "name": "stdout",
     "output_type": "stream",
     "text": [
      "CPU times: user 4.54 s, sys: 297 ms, total: 4.83 s\n",
      "Wall time: 2.38 s\n"
     ]
    }
   ],
   "source": [
    "%time experiment = markov_chain_experiment()"
   ]
  },
  {
   "cell_type": "code",
   "execution_count": 3,
   "metadata": {
    "hideCode": true,
    "hidePrompt": true
   },
   "outputs": [
    {
     "data": {
      "text/html": [
       "<div>\n",
       "<style>\n",
       "    .dataframe thead tr:only-child th {\n",
       "        text-align: right;\n",
       "    }\n",
       "\n",
       "    .dataframe thead th {\n",
       "        text-align: left;\n",
       "    }\n",
       "\n",
       "    .dataframe tbody tr th {\n",
       "        vertical-align: top;\n",
       "    }\n",
       "</style>\n",
       "<table border=\"1\" class=\"dataframe\">\n",
       "  <thead>\n",
       "    <tr>\n",
       "      <th></th>\n",
       "      <th colspan=\"2\" halign=\"left\">t=10</th>\n",
       "      <th colspan=\"2\" halign=\"left\">t=100</th>\n",
       "      <th colspan=\"2\" halign=\"left\">t=1000</th>\n",
       "      <th colspan=\"2\" halign=\"left\">t=10000</th>\n",
       "    </tr>\n",
       "    <tr>\n",
       "      <th></th>\n",
       "      <th>team</th>\n",
       "      <th>prop</th>\n",
       "      <th>team</th>\n",
       "      <th>prop</th>\n",
       "      <th>team</th>\n",
       "      <th>prop</th>\n",
       "      <th>team</th>\n",
       "      <th>prop</th>\n",
       "    </tr>\n",
       "  </thead>\n",
       "  <tbody>\n",
       "    <tr>\n",
       "      <th>0</th>\n",
       "      <td>MountUnion</td>\n",
       "      <td>0.018356</td>\n",
       "      <td>MountUnion</td>\n",
       "      <td>0.065705</td>\n",
       "      <td>Alabama</td>\n",
       "      <td>0.042282</td>\n",
       "      <td>Alabama</td>\n",
       "      <td>0.051114</td>\n",
       "    </tr>\n",
       "    <tr>\n",
       "      <th>1</th>\n",
       "      <td>MaryHardin-Baylor</td>\n",
       "      <td>0.012997</td>\n",
       "      <td>Alabama</td>\n",
       "      <td>0.022963</td>\n",
       "      <td>Georgia</td>\n",
       "      <td>0.034923</td>\n",
       "      <td>Georgia</td>\n",
       "      <td>0.042176</td>\n",
       "    </tr>\n",
       "    <tr>\n",
       "      <th>2</th>\n",
       "      <td>StFrancisIN</td>\n",
       "      <td>0.011045</td>\n",
       "      <td>Georgia</td>\n",
       "      <td>0.019237</td>\n",
       "      <td>MountUnion</td>\n",
       "      <td>0.034024</td>\n",
       "      <td>OhioState</td>\n",
       "      <td>0.033563</td>\n",
       "    </tr>\n",
       "    <tr>\n",
       "      <th>3</th>\n",
       "      <td>UW-Oshkosh</td>\n",
       "      <td>0.009959</td>\n",
       "      <td>UW-Oshkosh</td>\n",
       "      <td>0.017905</td>\n",
       "      <td>OhioState</td>\n",
       "      <td>0.027731</td>\n",
       "      <td>Clemson</td>\n",
       "      <td>0.032494</td>\n",
       "    </tr>\n",
       "    <tr>\n",
       "      <th>4</th>\n",
       "      <td>TAMU-Commerce</td>\n",
       "      <td>0.009295</td>\n",
       "      <td>OhioState</td>\n",
       "      <td>0.014859</td>\n",
       "      <td>Clemson</td>\n",
       "      <td>0.026894</td>\n",
       "      <td>Oklahoma</td>\n",
       "      <td>0.031654</td>\n",
       "    </tr>\n",
       "    <tr>\n",
       "      <th>5</th>\n",
       "      <td>BrockportSt</td>\n",
       "      <td>0.009169</td>\n",
       "      <td>Clemson</td>\n",
       "      <td>0.014719</td>\n",
       "      <td>Oklahoma</td>\n",
       "      <td>0.026177</td>\n",
       "      <td>Wisconsin</td>\n",
       "      <td>0.031090</td>\n",
       "    </tr>\n",
       "    <tr>\n",
       "      <th>6</th>\n",
       "      <td>NorthDakotaSt</td>\n",
       "      <td>0.009008</td>\n",
       "      <td>Oklahoma</td>\n",
       "      <td>0.014205</td>\n",
       "      <td>Wisconsin</td>\n",
       "      <td>0.025686</td>\n",
       "      <td>CentralFlorida</td>\n",
       "      <td>0.028810</td>\n",
       "    </tr>\n",
       "    <tr>\n",
       "      <th>7</th>\n",
       "      <td>Alabama</td>\n",
       "      <td>0.008994</td>\n",
       "      <td>Wisconsin</td>\n",
       "      <td>0.013756</td>\n",
       "      <td>CentralFlorida</td>\n",
       "      <td>0.023846</td>\n",
       "      <td>Auburn</td>\n",
       "      <td>0.026506</td>\n",
       "    </tr>\n",
       "    <tr>\n",
       "      <th>8</th>\n",
       "      <td>Morningside</td>\n",
       "      <td>0.008794</td>\n",
       "      <td>CentralFlorida</td>\n",
       "      <td>0.013051</td>\n",
       "      <td>Auburn</td>\n",
       "      <td>0.021933</td>\n",
       "      <td>PennState</td>\n",
       "      <td>0.024029</td>\n",
       "    </tr>\n",
       "    <tr>\n",
       "      <th>9</th>\n",
       "      <td>Georgia</td>\n",
       "      <td>0.008380</td>\n",
       "      <td>MaryHardin-Baylor</td>\n",
       "      <td>0.012609</td>\n",
       "      <td>PennState</td>\n",
       "      <td>0.019862</td>\n",
       "      <td>NotreDame</td>\n",
       "      <td>0.018050</td>\n",
       "    </tr>\n",
       "    <tr>\n",
       "      <th>10</th>\n",
       "      <td>JamesMadison</td>\n",
       "      <td>0.008076</td>\n",
       "      <td>TAMU-Commerce</td>\n",
       "      <td>0.012499</td>\n",
       "      <td>NotreDame</td>\n",
       "      <td>0.014938</td>\n",
       "      <td>TCU</td>\n",
       "      <td>0.017212</td>\n",
       "    </tr>\n",
       "    <tr>\n",
       "      <th>11</th>\n",
       "      <td>DelawareValley</td>\n",
       "      <td>0.007939</td>\n",
       "      <td>Auburn</td>\n",
       "      <td>0.011959</td>\n",
       "      <td>TCU</td>\n",
       "      <td>0.014247</td>\n",
       "      <td>MiamiFL</td>\n",
       "      <td>0.014377</td>\n",
       "    </tr>\n",
       "    <tr>\n",
       "      <th>12</th>\n",
       "      <td>Wartburg</td>\n",
       "      <td>0.007579</td>\n",
       "      <td>StFrancisIN</td>\n",
       "      <td>0.011094</td>\n",
       "      <td>MiamiFL</td>\n",
       "      <td>0.011903</td>\n",
       "      <td>MichiganSt</td>\n",
       "      <td>0.014240</td>\n",
       "    </tr>\n",
       "    <tr>\n",
       "      <th>13</th>\n",
       "      <td>IndianaPA</td>\n",
       "      <td>0.007222</td>\n",
       "      <td>PennState</td>\n",
       "      <td>0.010702</td>\n",
       "      <td>MichiganSt</td>\n",
       "      <td>0.011772</td>\n",
       "      <td>OklahomaSt</td>\n",
       "      <td>0.013636</td>\n",
       "    </tr>\n",
       "    <tr>\n",
       "      <th>14</th>\n",
       "      <td>Clemson</td>\n",
       "      <td>0.007081</td>\n",
       "      <td>BrockportSt</td>\n",
       "      <td>0.009478</td>\n",
       "      <td>OklahomaSt</td>\n",
       "      <td>0.011289</td>\n",
       "      <td>Iowa</td>\n",
       "      <td>0.012913</td>\n",
       "    </tr>\n",
       "    <tr>\n",
       "      <th>15</th>\n",
       "      <td>MinnSt-Mankato</td>\n",
       "      <td>0.006955</td>\n",
       "      <td>NotreDame</td>\n",
       "      <td>0.008179</td>\n",
       "      <td>Iowa</td>\n",
       "      <td>0.010674</td>\n",
       "      <td>Northwestern</td>\n",
       "      <td>0.012505</td>\n",
       "    </tr>\n",
       "    <tr>\n",
       "      <th>16</th>\n",
       "      <td>CentralFlorida</td>\n",
       "      <td>0.006753</td>\n",
       "      <td>DelawareValley</td>\n",
       "      <td>0.007976</td>\n",
       "      <td>Northwestern</td>\n",
       "      <td>0.010334</td>\n",
       "      <td>IowaSt</td>\n",
       "      <td>0.012370</td>\n",
       "    </tr>\n",
       "    <tr>\n",
       "      <th>17</th>\n",
       "      <td>OhioState</td>\n",
       "      <td>0.006671</td>\n",
       "      <td>NorthDakotaSt</td>\n",
       "      <td>0.007953</td>\n",
       "      <td>IowaSt</td>\n",
       "      <td>0.010248</td>\n",
       "      <td>LSU</td>\n",
       "      <td>0.011565</td>\n",
       "    </tr>\n",
       "    <tr>\n",
       "      <th>18</th>\n",
       "      <td>Wisconsin</td>\n",
       "      <td>0.006636</td>\n",
       "      <td>FrostburgSt</td>\n",
       "      <td>0.007861</td>\n",
       "      <td>LSU</td>\n",
       "      <td>0.009573</td>\n",
       "      <td>SouthernCal</td>\n",
       "      <td>0.011439</td>\n",
       "    </tr>\n",
       "    <tr>\n",
       "      <th>19</th>\n",
       "      <td>Reinhardt</td>\n",
       "      <td>0.006580</td>\n",
       "      <td>TCU</td>\n",
       "      <td>0.007818</td>\n",
       "      <td>NorthDakotaSt</td>\n",
       "      <td>0.009492</td>\n",
       "      <td>Washington</td>\n",
       "      <td>0.011191</td>\n",
       "    </tr>\n",
       "    <tr>\n",
       "      <th>20</th>\n",
       "      <td>StThomas</td>\n",
       "      <td>0.006016</td>\n",
       "      <td>MinnSt-Mankato</td>\n",
       "      <td>0.007645</td>\n",
       "      <td>SouthernCal</td>\n",
       "      <td>0.009478</td>\n",
       "      <td>NorthDakotaSt</td>\n",
       "      <td>0.010939</td>\n",
       "    </tr>\n",
       "    <tr>\n",
       "      <th>21</th>\n",
       "      <td>Oklahoma</td>\n",
       "      <td>0.005948</td>\n",
       "      <td>CaseWesternReserve</td>\n",
       "      <td>0.007156</td>\n",
       "      <td>Washington</td>\n",
       "      <td>0.009285</td>\n",
       "      <td>Stanford</td>\n",
       "      <td>0.010549</td>\n",
       "    </tr>\n",
       "    <tr>\n",
       "      <th>22</th>\n",
       "      <td>FrostburgSt</td>\n",
       "      <td>0.005506</td>\n",
       "      <td>JohnCarroll</td>\n",
       "      <td>0.006855</td>\n",
       "      <td>UW-Oshkosh</td>\n",
       "      <td>0.009237</td>\n",
       "      <td>MississippiSt</td>\n",
       "      <td>0.010317</td>\n",
       "    </tr>\n",
       "    <tr>\n",
       "      <th>23</th>\n",
       "      <td>Ashland</td>\n",
       "      <td>0.005368</td>\n",
       "      <td>MiamiFL</td>\n",
       "      <td>0.006546</td>\n",
       "      <td>Stanford</td>\n",
       "      <td>0.008742</td>\n",
       "      <td>VirginiaTech</td>\n",
       "      <td>0.010060</td>\n",
       "    </tr>\n",
       "    <tr>\n",
       "      <th>24</th>\n",
       "      <td>Assumption</td>\n",
       "      <td>0.005324</td>\n",
       "      <td>Harding</td>\n",
       "      <td>0.006452</td>\n",
       "      <td>MississippiSt</td>\n",
       "      <td>0.008541</td>\n",
       "      <td>NorthCarolinaSt</td>\n",
       "      <td>0.009595</td>\n",
       "    </tr>\n",
       "  </tbody>\n",
       "</table>\n",
       "</div>"
      ],
      "text/plain": [
       "                 t=10                         t=100                    t=1000  \\\n",
       "                 team      prop                team      prop            team   \n",
       "0          MountUnion  0.018356          MountUnion  0.065705         Alabama   \n",
       "1   MaryHardin-Baylor  0.012997             Alabama  0.022963         Georgia   \n",
       "2         StFrancisIN  0.011045             Georgia  0.019237      MountUnion   \n",
       "3          UW-Oshkosh  0.009959          UW-Oshkosh  0.017905       OhioState   \n",
       "4       TAMU-Commerce  0.009295           OhioState  0.014859         Clemson   \n",
       "5         BrockportSt  0.009169             Clemson  0.014719        Oklahoma   \n",
       "6       NorthDakotaSt  0.009008            Oklahoma  0.014205       Wisconsin   \n",
       "7             Alabama  0.008994           Wisconsin  0.013756  CentralFlorida   \n",
       "8         Morningside  0.008794      CentralFlorida  0.013051          Auburn   \n",
       "9             Georgia  0.008380   MaryHardin-Baylor  0.012609       PennState   \n",
       "10       JamesMadison  0.008076       TAMU-Commerce  0.012499       NotreDame   \n",
       "11     DelawareValley  0.007939              Auburn  0.011959             TCU   \n",
       "12           Wartburg  0.007579         StFrancisIN  0.011094         MiamiFL   \n",
       "13          IndianaPA  0.007222           PennState  0.010702      MichiganSt   \n",
       "14            Clemson  0.007081         BrockportSt  0.009478      OklahomaSt   \n",
       "15     MinnSt-Mankato  0.006955           NotreDame  0.008179            Iowa   \n",
       "16     CentralFlorida  0.006753      DelawareValley  0.007976    Northwestern   \n",
       "17          OhioState  0.006671       NorthDakotaSt  0.007953          IowaSt   \n",
       "18          Wisconsin  0.006636         FrostburgSt  0.007861             LSU   \n",
       "19          Reinhardt  0.006580                 TCU  0.007818   NorthDakotaSt   \n",
       "20           StThomas  0.006016      MinnSt-Mankato  0.007645     SouthernCal   \n",
       "21           Oklahoma  0.005948  CaseWesternReserve  0.007156      Washington   \n",
       "22        FrostburgSt  0.005506         JohnCarroll  0.006855      UW-Oshkosh   \n",
       "23            Ashland  0.005368             MiamiFL  0.006546        Stanford   \n",
       "24         Assumption  0.005324             Harding  0.006452   MississippiSt   \n",
       "\n",
       "                      t=10000            \n",
       "        prop             team      prop  \n",
       "0   0.042282          Alabama  0.051114  \n",
       "1   0.034923          Georgia  0.042176  \n",
       "2   0.034024        OhioState  0.033563  \n",
       "3   0.027731          Clemson  0.032494  \n",
       "4   0.026894         Oklahoma  0.031654  \n",
       "5   0.026177        Wisconsin  0.031090  \n",
       "6   0.025686   CentralFlorida  0.028810  \n",
       "7   0.023846           Auburn  0.026506  \n",
       "8   0.021933        PennState  0.024029  \n",
       "9   0.019862        NotreDame  0.018050  \n",
       "10  0.014938              TCU  0.017212  \n",
       "11  0.014247          MiamiFL  0.014377  \n",
       "12  0.011903       MichiganSt  0.014240  \n",
       "13  0.011772       OklahomaSt  0.013636  \n",
       "14  0.011289             Iowa  0.012913  \n",
       "15  0.010674     Northwestern  0.012505  \n",
       "16  0.010334           IowaSt  0.012370  \n",
       "17  0.010248              LSU  0.011565  \n",
       "18  0.009573      SouthernCal  0.011439  \n",
       "19  0.009492       Washington  0.011191  \n",
       "20  0.009478    NorthDakotaSt  0.010939  \n",
       "21  0.009285         Stanford  0.010549  \n",
       "22  0.009237    MississippiSt  0.010317  \n",
       "23  0.008742     VirginiaTech  0.010060  \n",
       "24  0.008541  NorthCarolinaSt  0.009595  "
      ]
     },
     "metadata": {},
     "output_type": "display_data"
    }
   ],
   "source": [
    "problem_1_a(experiment)"
   ]
  },
  {
   "cell_type": "markdown",
   "metadata": {
    "hideCode": true,
    "hidePrompt": true
   },
   "source": [
    "### Problem 1(b)"
   ]
  },
  {
   "cell_type": "code",
   "execution_count": 4,
   "metadata": {
    "hideCode": true,
    "hidePrompt": true
   },
   "outputs": [
    {
     "data": {
      "image/png": "[encoded data removed]",
      "text/plain": [
       "<matplotlib.figure.Figure at 0x1084a7cc0>"
      ]
     },
     "metadata": {},
     "output_type": "display_data"
    }
   ],
   "source": [
    "problem_1_b(experiment)"
   ]
  },
  {
   "cell_type": "markdown",
   "metadata": {
    "hideCode": true,
    "hidePrompt": true
   },
   "source": [
    "## Problem 2 (Nonnegative Matrix Factorization)\n",
    "\n",
    "### Problem 2(a)"
   ]
  },
  {
   "cell_type": "code",
   "execution_count": 6,
   "metadata": {
    "hideCode": true,
    "hideOutput": true,
    "hidePrompt": true
   },
   "outputs": [],
   "source": [
    "nmf = nmf_experiment()"
   ]
  },
  {
   "cell_type": "code",
   "execution_count": 7,
   "metadata": {
    "hideCode": true,
    "hidePrompt": true
   },
   "outputs": [
    {
     "data": {
      "image/png": "[encoded data removed]",
      "text/plain": [
       "<matplotlib.figure.Figure at 0x10bea9198>"
      ]
     },
     "metadata": {},
     "output_type": "display_data"
    }
   ],
   "source": [
    "problem_2_a(*nmf)"
   ]
  },
  {
   "cell_type": "markdown",
   "metadata": {
    "hideCode": true,
    "hidePrompt": true
   },
   "source": [
    "### Problem 2(b)"
   ]
  },
  {
   "cell_type": "code",
   "execution_count": 20,
   "metadata": {
    "hideCode": true,
    "hidePrompt": true
   },
   "outputs": [
    {
     "data": {
      "text/html": [
       "<!DOCTYPE html>\n",
       "<html><head><title>Dominate</title><style>.report-table { width: 100%; display: flex; flex-wrap: wrap; font-size: smaller; }.report-cell { width: 19%; padding: 5px 1em; box-sizing: border-box; border: 1px black solid; line-height: 1.6; }.report-word { display: flex; justify-content: space-between; }</style></head><body><div class=\"report-table\"><div class=\"report-cell\"><div class=\"report-word\"><span>car</span><span>0.013</span></div><div class=\"report-word\"><span>mile</span><span>0.012</span></div><div class=\"report-word\"><span>fire</span><span>0.009</span></div><div class=\"report-word\"><span>hour</span><span>0.008</span></div><div class=\"report-word\"><span>city</span><span>0.008</span></div><div class=\"report-word\"><span>drive</span><span>0.007</span></div><div class=\"report-word\"><span>area</span><span>0.007</span></div><div class=\"report-word\"><span>town</span><span>0.007</span></div><div class=\"report-word\"><span>kill</span><span>0.007</span></div><div class=\"report-word\"><span>water</span><span>0.007</span></div></div><div class=\"report-cell\"><div class=\"report-word\"><span>country</span><span>0.017</span></div><div class=\"report-word\"><span>political</span><span>0.014</span></div><div class=\"report-word\"><span>american</span><span>0.012</span></div><div class=\"report-word\"><span>world</span><span>0.008</span></div><div class=\"report-word\"><span>americans</span><span>0.007</span></div><div class=\"report-word\"><span>war</span><span>0.006</span></div><div class=\"report-word\"><span>government</span><span>0.006</span></div><div class=\"report-word\"><span>religious</span><span>0.006</span></div><div class=\"report-word\"><span>states</span><span>0.006</span></div><div class=\"report-word\"><span>history</span><span>0.006</span></div></div><div class=\"report-cell\"><div class=\"report-word\"><span>police</span><span>0.020</span></div><div class=\"report-word\"><span>charge</span><span>0.019</span></div><div class=\"report-word\"><span>case</span><span>0.017</span></div><div class=\"report-word\"><span>lawyer</span><span>0.015</span></div><div class=\"report-word\"><span>court</span><span>0.013</span></div><div class=\"report-word\"><span>man</span><span>0.012</span></div><div class=\"report-word\"><span>officer</span><span>0.011</span></div><div class=\"report-word\"><span>arrest</span><span>0.010</span></div><div class=\"report-word\"><span>law</span><span>0.010</span></div><div class=\"report-word\"><span>trial</span><span>0.009</span></div></div><div class=\"report-cell\"><div class=\"report-word\"><span>sell</span><span>0.057</span></div><div class=\"report-word\"><span>sale</span><span>0.040</span></div><div class=\"report-word\"><span>buy</span><span>0.038</span></div><div class=\"report-word\"><span>price</span><span>0.034</span></div><div class=\"report-word\"><span>store</span><span>0.021</span></div><div class=\"report-word\"><span>market</span><span>0.020</span></div><div class=\"report-word\"><span>offer</span><span>0.016</span></div><div class=\"report-word\"><span>percent</span><span>0.016</span></div><div class=\"report-word\"><span>purchase</span><span>0.015</span></div><div class=\"report-word\"><span>customer</span><span>0.012</span></div></div><div class=\"report-cell\"><div class=\"report-word\"><span>city</span><span>0.031</span></div><div class=\"report-word\"><span>building</span><span>0.029</span></div><div class=\"report-word\"><span>house</span><span>0.020</span></div><div class=\"report-word\"><span>resident</span><span>0.016</span></div><div class=\"report-word\"><span>street</span><span>0.016</span></div><div class=\"report-word\"><span>neighborhood</span><span>0.016</span></div><div class=\"report-word\"><span>live</span><span>0.015</span></div><div class=\"report-word\"><span>area</span><span>0.014</span></div><div class=\"report-word\"><span>community</span><span>0.013</span></div><div class=\"report-word\"><span>apartment</span><span>0.013</span></div></div><div class=\"report-cell\"><div class=\"report-word\"><span>game</span><span>0.028</span></div><div class=\"report-word\"><span>team</span><span>0.025</span></div><div class=\"report-word\"><span>play</span><span>0.021</span></div><div class=\"report-word\"><span>player</span><span>0.019</span></div><div class=\"report-word\"><span>season</span><span>0.019</span></div><div class=\"report-word\"><span>coach</span><span>0.010</span></div><div class=\"report-word\"><span>second</span><span>0.010</span></div><div class=\"report-word\"><span>score</span><span>0.010</span></div><div class=\"report-word\"><span>win</span><span>0.009</span></div><div class=\"report-word\"><span>ball</span><span>0.008</span></div></div><div class=\"report-cell\"><div class=\"report-word\"><span>white</span><span>0.013</span></div><div class=\"report-word\"><span>wear</span><span>0.012</span></div><div class=\"report-word\"><span>color</span><span>0.010</span></div><div class=\"report-word\"><span>black</span><span>0.010</span></div><div class=\"report-word\"><span>blue</span><span>0.009</span></div><div class=\"report-word\"><span>dress</span><span>0.009</span></div><div class=\"report-word\"><span>woman</span><span>0.007</span></div><div class=\"report-word\"><span>design</span><span>0.007</span></div><div class=\"report-word\"><span>fashion</span><span>0.007</span></div><div class=\"report-word\"><span>red</span><span>0.007</span></div></div><div class=\"report-cell\"><div class=\"report-word\"><span>official</span><span>0.014</span></div><div class=\"report-word\"><span>government</span><span>0.013</span></div><div class=\"report-word\"><span>states</span><span>0.013</span></div><div class=\"report-word\"><span>military</span><span>0.013</span></div><div class=\"report-word\"><span>american</span><span>0.013</span></div><div class=\"report-word\"><span>war</span><span>0.011</span></div><div class=\"report-word\"><span>force</span><span>0.009</span></div><div class=\"report-word\"><span>country</span><span>0.009</span></div><div class=\"report-word\"><span>leader</span><span>0.008</span></div><div class=\"report-word\"><span>international</span><span>0.007</span></div></div><div class=\"report-cell\"><div class=\"report-word\"><span>music</span><span>0.020</span></div><div class=\"report-word\"><span>play</span><span>0.013</span></div><div class=\"report-word\"><span>art</span><span>0.013</span></div><div class=\"report-word\"><span>performance</span><span>0.012</span></div><div class=\"report-word\"><span>artist</span><span>0.010</span></div><div class=\"report-word\"><span>dance</span><span>0.009</span></div><div class=\"report-word\"><span>song</span><span>0.009</span></div><div class=\"report-word\"><span>perform</span><span>0.008</span></div><div class=\"report-word\"><span>production</span><span>0.008</span></div><div class=\"report-word\"><span>theater</span><span>0.008</span></div></div><div class=\"report-cell\"><div class=\"report-word\"><span>company</span><span>0.058</span></div><div class=\"report-word\"><span>share</span><span>0.020</span></div><div class=\"report-word\"><span>executive</span><span>0.017</span></div><div class=\"report-word\"><span>business</span><span>0.016</span></div><div class=\"report-word\"><span>stock</span><span>0.014</span></div><div class=\"report-word\"><span>industry</span><span>0.012</span></div><div class=\"report-word\"><span>chief</span><span>0.012</span></div><div class=\"report-word\"><span>operation</span><span>0.010</span></div><div class=\"report-word\"><span>large</span><span>0.009</span></div><div class=\"report-word\"><span>firm</span><span>0.009</span></div></div><div class=\"report-cell\"><div class=\"report-word\"><span>room</span><span>0.021</span></div><div class=\"report-word\"><span>table</span><span>0.017</span></div><div class=\"report-word\"><span>restaurant</span><span>0.017</span></div><div class=\"report-word\"><span>dinner</span><span>0.015</span></div><div class=\"report-word\"><span>hotel</span><span>0.012</span></div><div class=\"report-word\"><span>bar</span><span>0.011</span></div><div class=\"report-word\"><span>drink</span><span>0.010</span></div><div class=\"report-word\"><span>eat</span><span>0.010</span></div><div class=\"report-word\"><span>lunch</span><span>0.010</span></div><div class=\"report-word\"><span>food</span><span>0.010</span></div></div><div class=\"report-cell\"><div class=\"report-word\"><span>school</span><span>0.023</span></div><div class=\"report-word\"><span>program</span><span>0.017</span></div><div class=\"report-word\"><span>student</span><span>0.017</span></div><div class=\"report-word\"><span>child</span><span>0.014</span></div><div class=\"report-word\"><span>education</span><span>0.011</span></div><div class=\"report-word\"><span>health</span><span>0.011</span></div><div class=\"report-word\"><span>drug</span><span>0.010</span></div><div class=\"report-word\"><span>group</span><span>0.010</span></div><div class=\"report-word\"><span>care</span><span>0.010</span></div><div class=\"report-word\"><span>number</span><span>0.009</span></div></div><div class=\"report-cell\"><div class=\"report-word\"><span>pay</span><span>0.025</span></div><div class=\"report-word\"><span>money</span><span>0.020</span></div><div class=\"report-word\"><span>budget</span><span>0.013</span></div><div class=\"report-word\"><span>tax</span><span>0.013</span></div><div class=\"report-word\"><span>cost</span><span>0.013</span></div><div class=\"report-word\"><span>cut</span><span>0.011</span></div><div class=\"report-word\"><span>state</span><span>0.011</span></div><div class=\"report-word\"><span>fund</span><span>0.011</span></div><div class=\"report-word\"><span>plan</span><span>0.010</span></div><div class=\"report-word\"><span>government</span><span>0.009</span></div></div><div class=\"report-cell\"><div class=\"report-word\"><span>write</span><span>0.024</span></div><div class=\"report-word\"><span>letter</span><span>0.021</span></div><div class=\"report-word\"><span>list</span><span>0.015</span></div><div class=\"report-word\"><span>paper</span><span>0.013</span></div><div class=\"report-word\"><span>information</span><span>0.013</span></div><div class=\"report-word\"><span>article</span><span>0.013</span></div><div class=\"report-word\"><span>book</span><span>0.012</span></div><div class=\"report-word\"><span>newspaper</span><span>0.011</span></div><div class=\"report-word\"><span>page</span><span>0.011</span></div><div class=\"report-word\"><span>name</span><span>0.011</span></div></div><div class=\"report-cell\"><div class=\"report-word\"><span>water</span><span>0.012</span></div><div class=\"report-word\"><span>pound</span><span>0.012</span></div><div class=\"report-word\"><span>food</span><span>0.011</span></div><div class=\"report-word\"><span>dry</span><span>0.010</span></div><div class=\"report-word\"><span>fresh</span><span>0.010</span></div><div class=\"report-word\"><span>heat</span><span>0.010</span></div><div class=\"report-word\"><span>oil</span><span>0.010</span></div><div class=\"report-word\"><span>add</span><span>0.009</span></div><div class=\"report-word\"><span>inch</span><span>0.008</span></div><div class=\"report-word\"><span>minute</span><span>0.008</span></div></div><div class=\"report-cell\"><div class=\"report-word\"><span>win</span><span>0.027</span></div><div class=\"report-word\"><span>second</span><span>0.017</span></div><div class=\"report-word\"><span>race</span><span>0.014</span></div><div class=\"report-word\"><span>finish</span><span>0.011</span></div><div class=\"report-word\"><span>final</span><span>0.010</span></div><div class=\"report-word\"><span>third</span><span>0.009</span></div><div class=\"report-word\"><span>match</span><span>0.008</span></div><div class=\"report-word\"><span>world</span><span>0.008</span></div><div class=\"report-word\"><span>winner</span><span>0.008</span></div><div class=\"report-word\"><span>round</span><span>0.008</span></div></div><div class=\"report-cell\"><div class=\"report-word\"><span>television</span><span>0.026</span></div><div class=\"report-word\"><span>computer</span><span>0.020</span></div><div class=\"report-word\"><span>network</span><span>0.014</span></div><div class=\"report-word\"><span>program</span><span>0.011</span></div><div class=\"report-word\"><span>internet</span><span>0.010</span></div><div class=\"report-word\"><span>system</span><span>0.010</span></div><div class=\"report-word\"><span>technology</span><span>0.010</span></div><div class=\"report-word\"><span>video</span><span>0.009</span></div><div class=\"report-word\"><span>broadcast</span><span>0.009</span></div><div class=\"report-word\"><span>company</span><span>0.008</span></div></div><div class=\"report-cell\"><div class=\"report-word\"><span>mrs</span><span>0.046</span></div><div class=\"report-word\"><span>father</span><span>0.045</span></div><div class=\"report-word\"><span>son</span><span>0.042</span></div><div class=\"report-word\"><span>graduate</span><span>0.038</span></div><div class=\"report-word\"><span>mother</span><span>0.029</span></div><div class=\"report-word\"><span>daughter</span><span>0.029</span></div><div class=\"report-word\"><span>president</span><span>0.025</span></div><div class=\"report-word\"><span>retire</span><span>0.021</span></div><div class=\"report-word\"><span>marry</span><span>0.021</span></div><div class=\"report-word\"><span>receive</span><span>0.020</span></div></div><div class=\"report-cell\"><div class=\"report-word\"><span>member</span><span>0.015</span></div><div class=\"report-word\"><span>president</span><span>0.014</span></div><div class=\"report-word\"><span>official</span><span>0.013</span></div><div class=\"report-word\"><span>meeting</span><span>0.009</span></div><div class=\"report-word\"><span>job</span><span>0.009</span></div><div class=\"report-word\"><span>yesterday</span><span>0.009</span></div><div class=\"report-word\"><span>staff</span><span>0.009</span></div><div class=\"report-word\"><span>interview</span><span>0.009</span></div><div class=\"report-word\"><span>office</span><span>0.009</span></div><div class=\"report-word\"><span>executive</span><span>0.008</span></div></div><div class=\"report-cell\"><div class=\"report-word\"><span>percent</span><span>0.030</span></div><div class=\"report-word\"><span>rise</span><span>0.017</span></div><div class=\"report-word\"><span>rate</span><span>0.015</span></div><div class=\"report-word\"><span>market</span><span>0.013</span></div><div class=\"report-word\"><span>increase</span><span>0.013</span></div><div class=\"report-word\"><span>economy</span><span>0.012</span></div><div class=\"report-word\"><span>fall</span><span>0.011</span></div><div class=\"report-word\"><span>report</span><span>0.010</span></div><div class=\"report-word\"><span>low</span><span>0.010</span></div><div class=\"report-word\"><span>growth</span><span>0.010</span></div></div><div class=\"report-cell\"><div class=\"report-word\"><span>life</span><span>0.018</span></div><div class=\"report-word\"><span>man</span><span>0.013</span></div><div class=\"report-word\"><span>woman</span><span>0.012</span></div><div class=\"report-word\"><span>child</span><span>0.011</span></div><div class=\"report-word\"><span>book</span><span>0.011</span></div><div class=\"report-word\"><span>story</span><span>0.011</span></div><div class=\"report-word\"><span>write</span><span>0.010</span></div><div class=\"report-word\"><span>love</span><span>0.010</span></div><div class=\"report-word\"><span>family</span><span>0.010</span></div><div class=\"report-word\"><span>young</span><span>0.009</span></div></div><div class=\"report-cell\"><div class=\"report-word\"><span>vote</span><span>0.019</span></div><div class=\"report-word\"><span>campaign</span><span>0.015</span></div><div class=\"report-word\"><span>state</span><span>0.015</span></div><div class=\"report-word\"><span>republican</span><span>0.013</span></div><div class=\"report-word\"><span>election</span><span>0.013</span></div><div class=\"report-word\"><span>party</span><span>0.012</span></div><div class=\"report-word\"><span>political</span><span>0.012</span></div><div class=\"report-word\"><span>candidate</span><span>0.011</span></div><div class=\"report-word\"><span>issue</span><span>0.010</span></div><div class=\"report-word\"><span>democratic</span><span>0.010</span></div></div><div class=\"report-cell\"><div class=\"report-word\"><span>thing</span><span>0.022</span></div><div class=\"report-word\"><span>lot</span><span>0.016</span></div><div class=\"report-word\"><span>ask</span><span>0.014</span></div><div class=\"report-word\"><span>really</span><span>0.012</span></div><div class=\"report-word\"><span>feel</span><span>0.012</span></div><div class=\"report-word\"><span>big</span><span>0.011</span></div><div class=\"report-word\"><span>tell</span><span>0.011</span></div><div class=\"report-word\"><span>put</span><span>0.010</span></div><div class=\"report-word\"><span>little</span><span>0.010</span></div><div class=\"report-word\"><span>keep</span><span>0.010</span></div></div><div class=\"report-cell\"><div class=\"report-word\"><span>editor</span><span>0.010</span></div><div class=\"report-word\"><span>problem</span><span>0.009</span></div><div class=\"report-word\"><span>question</span><span>0.009</span></div><div class=\"report-word\"><span>case</span><span>0.008</span></div><div class=\"report-word\"><span>cause</span><span>0.007</span></div><div class=\"report-word\"><span>study</span><span>0.007</span></div><div class=\"report-word\"><span>suggest</span><span>0.006</span></div><div class=\"report-word\"><span>risk</span><span>0.006</span></div><div class=\"report-word\"><span>effect</span><span>0.006</span></div><div class=\"report-word\"><span>believe</span><span>0.006</span></div></div><div class=\"report-cell\"><div class=\"report-word\"><span>project</span><span>0.016</span></div><div class=\"report-word\"><span>development</span><span>0.015</span></div><div class=\"report-word\"><span>build</span><span>0.014</span></div><div class=\"report-word\"><span>develop</span><span>0.010</span></div><div class=\"report-word\"><span>create</span><span>0.010</span></div><div class=\"report-word\"><span>design</span><span>0.009</span></div><div class=\"report-word\"><span>plant</span><span>0.009</span></div><div class=\"report-word\"><span>space</span><span>0.007</span></div><div class=\"report-word\"><span>large</span><span>0.007</span></div><div class=\"report-word\"><span>decade</span><span>0.006</span></div></div></div></body></html>"
      ],
      "text/plain": [
       "<IPython.core.display.HTML object>"
      ]
     },
     "metadata": {},
     "output_type": "display_data"
    }
   ],
   "source": [
    "problem_2_b(*nmf)"
   ]
  }
 ],
 "metadata": {
  "celltoolbar": "Hide code",
  "kernelspec": {
   "display_name": "Python 3",
   "language": "python",
   "name": "python3"
  },
  "language_info": {
   "codemirror_mode": {
    "name": "ipython",
    "version": 3
   },
   "file_extension": ".py",
   "mimetype": "text/x-python",
   "name": "python",
   "nbconvert_exporter": "python",
   "pygments_lexer": "ipython3",
   "version": "3.6.3"
  }
 },
 "nbformat": 4,
 "nbformat_minor": 2
}
